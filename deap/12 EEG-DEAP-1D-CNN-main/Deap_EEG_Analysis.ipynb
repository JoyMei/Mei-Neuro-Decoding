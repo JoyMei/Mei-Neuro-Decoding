{
  "nbformat": 4,
  "nbformat_minor": 0,
  "metadata": {
    "kernelspec": {
      "display_name": "Python 3",
      "language": "python",
      "name": "python3"
    },
    "language_info": {
      "codemirror_mode": {
        "name": "ipython",
        "version": 3
      },
      "file_extension": ".py",
      "mimetype": "text/x-python",
      "name": "python",
      "nbconvert_exporter": "python",
      "pygments_lexer": "ipython3",
      "version": "3.7.3"
    },
    "colab": {
      "name": "Deap EEG Analysis.ipynb",
      "provenance": [],
      "include_colab_link": true
    },
    "accelerator": "GPU"
  },
  "cells": [
    {
      "cell_type": "markdown",
      "metadata": {
        "id": "view-in-github",
        "colab_type": "text"
      },
      "source": [
        "<a href=\"https://colab.research.google.com/github/PiasTanmoy/EEG-DEAP-1D-CNN/blob/main/Deap_EEG_Analysis.ipynb\" target=\"_parent\"><img src=\"https://colab.research.google.com/assets/colab-badge.svg\" alt=\"Open In Colab\"/></a>"
      ]
    },
    {
      "cell_type": "code",
      "metadata": {
        "id": "VSeia0prWv5w",
        "outputId": "a0d70cc0-a1f1-45cc-85a3-4f06ddd9a691",
        "colab": {
          "base_uri": "https://localhost:8080/",
          "height": 224
        }
      },
      "source": [
        "pip install git+https://github.com/forrestbao/pyeeg.git"
      ],
      "execution_count": 2,
      "outputs": [
        {
          "output_type": "stream",
          "text": [
            "Collecting git+https://github.com/forrestbao/pyeeg.git\n",
            "  Cloning https://github.com/forrestbao/pyeeg.git to /tmp/pip-req-build-3t4sgx7o\n",
            "  Running command git clone -q https://github.com/forrestbao/pyeeg.git /tmp/pip-req-build-3t4sgx7o\n",
            "Requirement already satisfied: numpy>=1.9.2 in /usr/local/lib/python3.6/dist-packages (from pyeeg==0.4.4) (1.18.5)\n",
            "Building wheels for collected packages: pyeeg\n",
            "  Building wheel for pyeeg (setup.py) ... \u001b[?25l\u001b[?25hdone\n",
            "  Created wheel for pyeeg: filename=pyeeg-0.4.4-py2.py3-none-any.whl size=28122 sha256=1df7efcf6d32ddd892b8e0f15bbcb41e9b2fc6bf0c2db1cf1cd3c8d4ce386f85\n",
            "  Stored in directory: /tmp/pip-ephem-wheel-cache-t217q6q_/wheels/2d/3f/ad/106d4fc80b61d1ea1fc18e76e7439fd98aa043d83d58eae741\n",
            "Successfully built pyeeg\n",
            "Installing collected packages: pyeeg\n",
            "Successfully installed pyeeg-0.4.4\n"
          ],
          "name": "stdout"
        }
      ]
    },
    {
      "cell_type": "code",
      "metadata": {
        "id": "5WU2l9WPy2a0"
      },
      "source": [
        "#git clone https://github.com/forrestbao/pyeeg.git"
      ],
      "execution_count": null,
      "outputs": []
    },
    {
      "cell_type": "code",
      "metadata": {
        "id": "358GlHIWxkMC",
        "outputId": "67e3da0f-deba-41e6-ee99-28216db986c9",
        "colab": {
          "base_uri": "https://localhost:8080/",
          "height": 34
        }
      },
      "source": [
        "from google.colab import drive\n",
        "drive.mount('/content/drive')"
      ],
      "execution_count": 1,
      "outputs": [
        {
          "output_type": "stream",
          "text": [
            "Mounted at /content/drive\n"
          ],
          "name": "stdout"
        }
      ]
    },
    {
      "cell_type": "code",
      "metadata": {
        "id": "s1R9IBrhx_Zj",
        "outputId": "f63689b7-5703-40fb-fa1c-b973c5479519",
        "colab": {
          "base_uri": "https://localhost:8080/",
          "height": 51
        }
      },
      "source": [
        "!pip install pyeeg"
      ],
      "execution_count": 3,
      "outputs": [
        {
          "output_type": "stream",
          "text": [
            "\u001b[31mERROR: Could not find a version that satisfies the requirement pyeeg (from versions: none)\u001b[0m\n",
            "\u001b[31mERROR: No matching distribution found for pyeeg\u001b[0m\n"
          ],
          "name": "stdout"
        }
      ]
    },
    {
      "cell_type": "code",
      "metadata": {
        "id": "CL4hXXPVWv56"
      },
      "source": [
        "import numpy as np\n",
        "import pyeeg as pe\n",
        "import pickle as pickle\n",
        "import pandas as pd\n",
        "import math\n",
        "\n",
        "from sklearn import svm\n",
        "from sklearn.preprocessing import normalize\n",
        "\n",
        "import os\n",
        "#import tensorflow as tf\n",
        "import time"
      ],
      "execution_count": 3,
      "outputs": []
    },
    {
      "cell_type": "code",
      "metadata": {
        "id": "jXqsJ3THWv6A"
      },
      "source": [
        "channel = [1,2,3,4,6,11,13,17,19,20,21,25,29,31] #14 Channels chosen to fit Emotiv Epoch+\n",
        "band = [4,8,12,16,25,45] #5 bands\n",
        "window_size = 256 #Averaging band power of 2 sec\n",
        "step_size = 16 #Each 0.125 sec update once\n",
        "sample_rate = 128 #Sampling rate of 128 Hz\n",
        "subjectList = ['01','02','03']\n",
        "#List of subjects\n",
        "path_to_dataset = '/content/drive/My Drive/Datasets/DEAP-dataset/data_preprocessed_python/'"
      ],
      "execution_count": 4,
      "outputs": []
    },
    {
      "cell_type": "code",
      "metadata": {
        "id": "Y05QKdT-Wv6H"
      },
      "source": [
        "def FFT_Processing (sub, channel, band, window_size, step_size, sample_rate):\n",
        "    '''\n",
        "    arguments:  string subject\n",
        "                list channel indice\n",
        "                list band\n",
        "                int window size for FFT\n",
        "                int step size for FFT\n",
        "                int sample rate for FFT\n",
        "    return:     void\n",
        "    '''\n",
        "    meta = []\n",
        "    with open(path_to_dataset+'s' + sub + '.dat', 'rb') as file:\n",
        "\n",
        "        subject = pickle.load(file, encoding='latin1') #resolve the python 2 data problem by encoding : latin1\n",
        "\n",
        "        for i in range (0,40):\n",
        "            # loop over 0-39 trails\n",
        "            data = subject[\"data\"][i]\n",
        "            labels = subject[\"labels\"][i]\n",
        "            start = 0;\n",
        "\n",
        "            while start + window_size < data.shape[1]:\n",
        "                meta_array = []\n",
        "                meta_data = [] #meta vector for analysis\n",
        "                for j in channel:\n",
        "                    X = data[j][start : start + window_size] #Slice raw data over 2 sec, at interval of 0.125 sec\n",
        "                    Y = pe.bin_power(X, band, sample_rate) #FFT over 2 sec of channel j, in seq of theta, alpha, low beta, high beta, gamma\n",
        "                    meta_data = meta_data + list(Y[0])\n",
        "\n",
        "                meta_array.append(np.array(meta_data))\n",
        "                meta_array.append(labels)\n",
        "\n",
        "                meta.append(np.array(meta_array))    \n",
        "                start = start + step_size\n",
        "                \n",
        "        meta = np.array(meta)\n",
        "        #np.save('C:/Users/faizan/Downloads/data_preprocessed_python/data_preprocessed_python/s' + sub, meta, allow_pickle=True, fix_imports=True)\n",
        "        np.save(path_to_dataset+'s' + sub, meta, allow_pickle=True, fix_imports=True)\n"
      ],
      "execution_count": 15,
      "outputs": []
    },
    {
      "cell_type": "code",
      "metadata": {
        "id": "rNBI6zlkWv6N"
      },
      "source": [
        "for subjects in subjectList:\n",
        "    FFT_Processing (subjects, channel, band, window_size, step_size, sample_rate)"
      ],
      "execution_count": 16,
      "outputs": []
    },
    {
      "cell_type": "code",
      "metadata": {
        "id": "39IxHP3MJhOn"
      },
      "source": [
        "import numpy as np\n",
        "# save np.load\n",
        "np_load_old = np.load\n",
        "\n",
        "# modify the default parameters of np.load\n",
        "np.load = lambda *a,**k: np_load_old(*a, allow_pickle=True, **k)\n"
      ],
      "execution_count": 10,
      "outputs": []
    },
    {
      "cell_type": "code",
      "metadata": {
        "id": "4iGJHsgwWv6T"
      },
      "source": [
        "data_training = []\n",
        "label_training = []\n",
        "data_testing = []\n",
        "label_testing = []\n",
        "\n",
        "for subjects in subjectList:\n",
        "\n",
        "    with open(path_to_dataset + 's' + subjects + '.npy', 'rb') as file:\n",
        "        sub = np.load(file)\n",
        "        for i in range (0,sub.shape[0]):\n",
        "            if i % 8 == 0:\n",
        "                data_testing.append(sub[i][0])\n",
        "                label_testing.append(sub[i][1])\n",
        "            else:\n",
        "                data_training.append(sub[i][0])\n",
        "                label_training.append(sub[i][1])\n",
        "          "
      ],
      "execution_count": 7,
      "outputs": []
    },
    {
      "cell_type": "code",
      "metadata": {
        "id": "CrBMxsCCJjKc"
      },
      "source": [
        "# restore np.load for future normal usage\n",
        "np.load = np_load_old"
      ],
      "execution_count": 8,
      "outputs": []
    },
    {
      "cell_type": "code",
      "metadata": {
        "id": "J59xEfJmJKle",
        "outputId": "c42ffc1d-9820-4081-c24d-ca129e470f27",
        "colab": {
          "base_uri": "https://localhost:8080/",
          "height": 51
        }
      },
      "source": [
        "np.save(path_to_dataset + 'data_training', np.array(data_training), allow_pickle=True, fix_imports=True)\n",
        "np.save(path_to_dataset + 'label_training', np.array(label_training), allow_pickle=True, fix_imports=True)\n",
        "print(\"training dataset:\", np.array(data_training).shape, np.array(label_training).shape)\n",
        "\n",
        "np.save(path_to_dataset + 'data_testing', np.array(data_testing), allow_pickle=True, fix_imports=True)\n",
        "np.save(path_to_dataset + 'label_testing', np.array(label_testing), allow_pickle=True, fix_imports=True)\n",
        "print(\"testing dataset:\", np.array(data_testing).shape, np.array(label_testing).shape)"
      ],
      "execution_count": 9,
      "outputs": [
        {
          "output_type": "stream",
          "text": [
            "training dataset: (51240, 70) (51240, 4)\n",
            "testing dataset: (7320, 70) (7320, 4)\n"
          ],
          "name": "stdout"
        }
      ]
    },
    {
      "cell_type": "code",
      "metadata": {
        "id": "3ddoeQWVWv6Z"
      },
      "source": [
        "with open(path_to_dataset + 'data_training.npy', 'rb') as fileTrain:\n",
        "    X  = np.load(fileTrain)\n",
        "    \n",
        "with open(path_to_dataset + 'label_training.npy', 'rb') as fileTrainL:\n",
        "    Y  = np.load(fileTrainL)\n",
        "    \n",
        "X = normalize(X)\n",
        "Z = np.ravel(Y[:, [1]])\n",
        "\n",
        "Arousal_Train = np.ravel(Y[:, [0]])\n",
        "Valence_Train = np.ravel(Y[:, [1]])\n",
        "Domain_Train = np.ravel(Y[:, [2]])\n",
        "Like_Train = np.ravel(Y[:, [3]])"
      ],
      "execution_count": 11,
      "outputs": []
    },
    {
      "cell_type": "code",
      "metadata": {
        "id": "zSJHo8ZTWv6i"
      },
      "source": [
        ""
      ],
      "execution_count": null,
      "outputs": []
    },
    {
      "cell_type": "code",
      "metadata": {
        "id": "T2Zyk_U0Wv6o"
      },
      "source": [
        "import pandas as pd\n",
        "import keras.backend as K\n",
        "import numpy as np\n",
        "import pandas as pd\n",
        "from keras.models import Sequential\n",
        "from keras.layers import Dense\n",
        "from keras.models import Sequential\n",
        "from keras.layers.convolutional import Conv1D\n",
        "from keras.layers.convolutional import MaxPooling1D\n",
        "from keras.utils import to_categorical \n",
        "from keras.layers import Flatten\n",
        "from keras.layers import Dense\n",
        "import numpy as np\n",
        "import keras\n",
        "from keras.datasets import mnist\n",
        "from keras.models import Sequential\n",
        "from keras.layers import Dense, Dropout, Flatten, Conv2D, MaxPooling2D\n",
        "from keras import backend as K\n",
        "from keras.models import Model\n",
        "import timeit\n",
        "from keras.models import Sequential\n",
        "from keras.layers.core import Flatten, Dense, Dropout\n",
        "from keras.layers.convolutional import Convolution1D, MaxPooling1D, ZeroPadding1D\n",
        "from keras.optimizers import SGD\n",
        "#import cv2, numpy as np\n",
        "import warnings\n",
        "warnings.filterwarnings('ignore')\n"
      ],
      "execution_count": 12,
      "outputs": []
    },
    {
      "cell_type": "code",
      "metadata": {
        "id": "ZG-WXQ45Wv6t",
        "outputId": "bd4eb4bd-b88b-4506-e579-79570691c68b",
        "colab": {
          "base_uri": "https://localhost:8080/",
          "height": 136
        }
      },
      "source": [
        "from keras.utils import to_categorical\n",
        "y_train = to_categorical(Z)\n",
        "y_train"
      ],
      "execution_count": 13,
      "outputs": [
        {
          "output_type": "execute_result",
          "data": {
            "text/plain": [
              "array([[0., 0., 0., ..., 1., 0., 0.],\n",
              "       [0., 0., 0., ..., 1., 0., 0.],\n",
              "       [0., 0., 0., ..., 1., 0., 0.],\n",
              "       ...,\n",
              "       [0., 0., 0., ..., 0., 0., 0.],\n",
              "       [0., 0., 0., ..., 0., 0., 0.],\n",
              "       [0., 0., 0., ..., 0., 0., 0.]], dtype=float32)"
            ]
          },
          "metadata": {
            "tags": []
          },
          "execution_count": 13
        }
      ]
    },
    {
      "cell_type": "code",
      "metadata": {
        "id": "dkSCoKECWv6z"
      },
      "source": [
        "x_train = np.array(X[:])"
      ],
      "execution_count": 14,
      "outputs": []
    },
    {
      "cell_type": "code",
      "metadata": {
        "id": "Mkxf-DOvWv65"
      },
      "source": [
        "with open(path_to_dataset + 'data_testing.npy', 'rb') as fileTrain:\n",
        "    M  = np.load(fileTrain)\n",
        "    \n",
        "with open(path_to_dataset + 'label_testing.npy', 'rb') as fileTrainL:\n",
        "    N  = np.load(fileTrainL)\n",
        "\n",
        "M = normalize(M)\n",
        "L = np.ravel(N[:, [1]])\n",
        "\n",
        "Arousal_Test = np.ravel(N[:, [0]])\n",
        "Valence_Test = np.ravel(N[:, [1]])\n",
        "Domain_Test = np.ravel(N[:, [2]])\n",
        "Like_Test = np.ravel(N[:, [3]])"
      ],
      "execution_count": 15,
      "outputs": []
    },
    {
      "cell_type": "code",
      "metadata": {
        "id": "KTH4Ta9QWv6-"
      },
      "source": [
        "x_test = np.array(M[:])"
      ],
      "execution_count": 16,
      "outputs": []
    },
    {
      "cell_type": "code",
      "metadata": {
        "id": "-WwrKjBEWv7E",
        "outputId": "a2865d8e-324b-4b73-8732-d73770a6dc17",
        "colab": {
          "base_uri": "https://localhost:8080/",
          "height": 136
        }
      },
      "source": [
        "from keras.utils import to_categorical\n",
        "y_test = to_categorical(L)\n",
        "y_test"
      ],
      "execution_count": 17,
      "outputs": [
        {
          "output_type": "execute_result",
          "data": {
            "text/plain": [
              "array([[0., 0., 0., ..., 1., 0., 0.],\n",
              "       [0., 0., 0., ..., 1., 0., 0.],\n",
              "       [0., 0., 0., ..., 1., 0., 0.],\n",
              "       ...,\n",
              "       [0., 0., 0., ..., 0., 0., 0.],\n",
              "       [0., 0., 0., ..., 0., 0., 0.],\n",
              "       [0., 0., 0., ..., 0., 0., 0.]], dtype=float32)"
            ]
          },
          "metadata": {
            "tags": []
          },
          "execution_count": 17
        }
      ]
    },
    {
      "cell_type": "code",
      "metadata": {
        "id": "QXrmWo9SWv7K"
      },
      "source": [
        "from sklearn.preprocessing import StandardScaler\n",
        "scaler = StandardScaler()\n",
        "x_train = scaler.fit_transform(x_train)\n",
        "x_test = scaler.fit_transform(x_test)"
      ],
      "execution_count": 18,
      "outputs": []
    },
    {
      "cell_type": "code",
      "metadata": {
        "id": "G7Vi52X5Wv7Q"
      },
      "source": [
        "x_train = x_train.reshape(x_train.shape[0],x_train.shape[1], 1)\n",
        "x_test = x_test.reshape(x_test.shape[0],x_test.shape[1], 1)"
      ],
      "execution_count": 19,
      "outputs": []
    },
    {
      "cell_type": "code",
      "metadata": {
        "id": "8ggf1pK3Wv7V",
        "outputId": "92aba29d-8d36-4a4f-9f86-4bd13623b1a4",
        "colab": {
          "base_uri": "https://localhost:8080/",
          "height": 34
        }
      },
      "source": [
        "x_train.shape"
      ],
      "execution_count": 20,
      "outputs": [
        {
          "output_type": "execute_result",
          "data": {
            "text/plain": [
              "(51240, 70, 1)"
            ]
          },
          "metadata": {
            "tags": []
          },
          "execution_count": 20
        }
      ]
    },
    {
      "cell_type": "code",
      "metadata": {
        "id": "JK3v3jUPWv7a"
      },
      "source": [
        "batch_size = 256\n",
        "num_classes = 10\n",
        "epochs = 100\n",
        "input_shape=(x_train.shape[1], 1)"
      ],
      "execution_count": 34,
      "outputs": []
    },
    {
      "cell_type": "code",
      "metadata": {
        "id": "bSy05krXWv7i",
        "outputId": "486adc87-92da-492b-98e9-3f4e35aed6c0",
        "colab": {
          "base_uri": "https://localhost:8080/",
          "height": 34
        }
      },
      "source": [
        "print(input_shape)"
      ],
      "execution_count": 24,
      "outputs": [
        {
          "output_type": "stream",
          "text": [
            "(70, 1)\n"
          ],
          "name": "stdout"
        }
      ]
    },
    {
      "cell_type": "code",
      "metadata": {
        "id": "i9uyWA4VWv7o"
      },
      "source": [
        "from keras.layers import Convolution1D, ZeroPadding1D, MaxPooling1D, BatchNormalization, Activation, Dropout, Flatten, Dense\n",
        "from keras.regularizers import l2"
      ],
      "execution_count": 25,
      "outputs": []
    },
    {
      "cell_type": "code",
      "metadata": {
        "id": "kjtmNdT0Wv7t",
        "outputId": "b4fb897f-5ea7-4082-88f9-bf7530eed5df",
        "colab": {
          "base_uri": "https://localhost:8080/",
          "height": 629
        }
      },
      "source": [
        "model = Sequential()\n",
        "intput_shape=(x_train.shape[1], 1)\n",
        "model.add(Conv1D(128, kernel_size=3,padding = 'same',activation='relu', input_shape=input_shape))\n",
        "model.add(BatchNormalization())\n",
        "model.add(MaxPooling1D(pool_size=(2)))\n",
        "model.add(Conv1D(128,kernel_size=3,padding = 'same', activation='relu'))\n",
        "model.add(BatchNormalization())\n",
        "model.add(MaxPooling1D(pool_size=(2)))\n",
        "#model.add(Conv1D(64,kernel_size=3,padding = 'same', activation='relu'))\n",
        "#model.add(MaxPooling1D(pool_size=(2)))\n",
        "model.add(Flatten())\n",
        "model.add(Dense(64, activation='tanh'))\n",
        "model.add(Dropout(0.2))\n",
        "model.add(Dense(32, activation='tanh'))\n",
        "model.add(Dropout(0.2))\n",
        "model.add(Dense(16, activation='relu'))\n",
        "model.add(Dropout(0.2))\n",
        "model.add(Dense(num_classes, activation='softmax'))\n",
        "model.summary()"
      ],
      "execution_count": 38,
      "outputs": [
        {
          "output_type": "stream",
          "text": [
            "Model: \"sequential_1\"\n",
            "_________________________________________________________________\n",
            "Layer (type)                 Output Shape              Param #   \n",
            "=================================================================\n",
            "conv1d_2 (Conv1D)            (None, 70, 128)           512       \n",
            "_________________________________________________________________\n",
            "batch_normalization_2 (Batch (None, 70, 128)           512       \n",
            "_________________________________________________________________\n",
            "max_pooling1d_2 (MaxPooling1 (None, 35, 128)           0         \n",
            "_________________________________________________________________\n",
            "conv1d_3 (Conv1D)            (None, 35, 128)           49280     \n",
            "_________________________________________________________________\n",
            "batch_normalization_3 (Batch (None, 35, 128)           512       \n",
            "_________________________________________________________________\n",
            "max_pooling1d_3 (MaxPooling1 (None, 17, 128)           0         \n",
            "_________________________________________________________________\n",
            "flatten_1 (Flatten)          (None, 2176)              0         \n",
            "_________________________________________________________________\n",
            "dense_4 (Dense)              (None, 64)                139328    \n",
            "_________________________________________________________________\n",
            "dropout_3 (Dropout)          (None, 64)                0         \n",
            "_________________________________________________________________\n",
            "dense_5 (Dense)              (None, 32)                2080      \n",
            "_________________________________________________________________\n",
            "dropout_4 (Dropout)          (None, 32)                0         \n",
            "_________________________________________________________________\n",
            "dense_6 (Dense)              (None, 16)                528       \n",
            "_________________________________________________________________\n",
            "dropout_5 (Dropout)          (None, 16)                0         \n",
            "_________________________________________________________________\n",
            "dense_7 (Dense)              (None, 10)                170       \n",
            "=================================================================\n",
            "Total params: 192,922\n",
            "Trainable params: 192,410\n",
            "Non-trainable params: 512\n",
            "_________________________________________________________________\n"
          ],
          "name": "stdout"
        }
      ]
    },
    {
      "cell_type": "code",
      "metadata": {
        "id": "YzYyJA9aWv7z"
      },
      "source": [
        "model.compile(loss=keras.losses.categorical_crossentropy,\n",
        "              optimizer='adam',\n",
        "              metrics=['accuracy'])"
      ],
      "execution_count": 39,
      "outputs": []
    },
    {
      "cell_type": "code",
      "metadata": {
        "id": "nhmQB52HWv73",
        "outputId": "64427fbc-3b2b-429e-be77-56ef6f10c21e",
        "colab": {
          "base_uri": "https://localhost:8080/",
          "height": 1000
        }
      },
      "source": [
        "H = model.fit(x_train, y_train,\n",
        "          batch_size=batch_size,\n",
        "          epochs=epochs,\n",
        "          verbose=1)"
      ],
      "execution_count": 40,
      "outputs": [
        {
          "output_type": "stream",
          "text": [
            "Epoch 1/100\n",
            "201/201 [==============================] - 1s 7ms/step - loss: 1.9668 - accuracy: 0.2743\n",
            "Epoch 2/100\n",
            "201/201 [==============================] - 1s 7ms/step - loss: 1.7618 - accuracy: 0.3315\n",
            "Epoch 3/100\n",
            "201/201 [==============================] - 1s 7ms/step - loss: 1.6501 - accuracy: 0.3774\n",
            "Epoch 4/100\n",
            "201/201 [==============================] - 1s 7ms/step - loss: 1.5789 - accuracy: 0.4062\n",
            "Epoch 5/100\n",
            "201/201 [==============================] - 1s 7ms/step - loss: 1.5190 - accuracy: 0.4292\n",
            "Epoch 6/100\n",
            "201/201 [==============================] - 1s 7ms/step - loss: 1.4677 - accuracy: 0.4533\n",
            "Epoch 7/100\n",
            "201/201 [==============================] - 1s 7ms/step - loss: 1.4237 - accuracy: 0.4688\n",
            "Epoch 8/100\n",
            "201/201 [==============================] - 1s 7ms/step - loss: 1.3844 - accuracy: 0.4865\n",
            "Epoch 9/100\n",
            "201/201 [==============================] - 1s 7ms/step - loss: 1.3533 - accuracy: 0.4976\n",
            "Epoch 10/100\n",
            "201/201 [==============================] - 1s 7ms/step - loss: 1.3102 - accuracy: 0.5166\n",
            "Epoch 11/100\n",
            "201/201 [==============================] - 1s 7ms/step - loss: 1.2828 - accuracy: 0.5264\n",
            "Epoch 12/100\n",
            "201/201 [==============================] - 1s 7ms/step - loss: 1.2574 - accuracy: 0.5375\n",
            "Epoch 13/100\n",
            "201/201 [==============================] - 1s 7ms/step - loss: 1.2280 - accuracy: 0.5469\n",
            "Epoch 14/100\n",
            "201/201 [==============================] - 1s 7ms/step - loss: 1.2079 - accuracy: 0.5559\n",
            "Epoch 15/100\n",
            "201/201 [==============================] - 1s 7ms/step - loss: 1.1904 - accuracy: 0.5623\n",
            "Epoch 16/100\n",
            "201/201 [==============================] - 1s 7ms/step - loss: 1.1679 - accuracy: 0.5707\n",
            "Epoch 17/100\n",
            "201/201 [==============================] - 1s 7ms/step - loss: 1.1468 - accuracy: 0.5825\n",
            "Epoch 18/100\n",
            "201/201 [==============================] - 1s 7ms/step - loss: 1.1342 - accuracy: 0.5847\n",
            "Epoch 19/100\n",
            "201/201 [==============================] - 1s 7ms/step - loss: 1.1240 - accuracy: 0.5892\n",
            "Epoch 20/100\n",
            "201/201 [==============================] - 1s 7ms/step - loss: 1.1041 - accuracy: 0.5973\n",
            "Epoch 21/100\n",
            "201/201 [==============================] - 1s 7ms/step - loss: 1.0964 - accuracy: 0.6011\n",
            "Epoch 22/100\n",
            "201/201 [==============================] - 1s 7ms/step - loss: 1.0692 - accuracy: 0.6103\n",
            "Epoch 23/100\n",
            "201/201 [==============================] - 1s 7ms/step - loss: 1.0636 - accuracy: 0.6112\n",
            "Epoch 24/100\n",
            "201/201 [==============================] - 1s 7ms/step - loss: 1.0527 - accuracy: 0.6152\n",
            "Epoch 25/100\n",
            "201/201 [==============================] - 1s 7ms/step - loss: 1.0368 - accuracy: 0.6232\n",
            "Epoch 26/100\n",
            "201/201 [==============================] - 1s 7ms/step - loss: 1.0360 - accuracy: 0.6221\n",
            "Epoch 27/100\n",
            "201/201 [==============================] - 1s 7ms/step - loss: 1.0208 - accuracy: 0.6275\n",
            "Epoch 28/100\n",
            "201/201 [==============================] - 1s 7ms/step - loss: 1.0128 - accuracy: 0.6295\n",
            "Epoch 29/100\n",
            "201/201 [==============================] - 1s 7ms/step - loss: 1.0034 - accuracy: 0.6362\n",
            "Epoch 30/100\n",
            "201/201 [==============================] - 1s 7ms/step - loss: 0.9885 - accuracy: 0.6397\n",
            "Epoch 31/100\n",
            "201/201 [==============================] - 1s 7ms/step - loss: 0.9820 - accuracy: 0.6429\n",
            "Epoch 32/100\n",
            "201/201 [==============================] - 1s 7ms/step - loss: 0.9757 - accuracy: 0.6448\n",
            "Epoch 33/100\n",
            "201/201 [==============================] - 1s 7ms/step - loss: 0.9766 - accuracy: 0.6447\n",
            "Epoch 34/100\n",
            "201/201 [==============================] - 1s 7ms/step - loss: 0.9677 - accuracy: 0.6491\n",
            "Epoch 35/100\n",
            "201/201 [==============================] - 1s 7ms/step - loss: 0.9549 - accuracy: 0.6509\n",
            "Epoch 36/100\n",
            "201/201 [==============================] - 1s 7ms/step - loss: 0.9494 - accuracy: 0.6541\n",
            "Epoch 37/100\n",
            "201/201 [==============================] - 1s 7ms/step - loss: 0.9375 - accuracy: 0.6580\n",
            "Epoch 38/100\n",
            "201/201 [==============================] - 1s 7ms/step - loss: 0.9290 - accuracy: 0.6627\n",
            "Epoch 39/100\n",
            "201/201 [==============================] - 1s 7ms/step - loss: 0.9244 - accuracy: 0.6652\n",
            "Epoch 40/100\n",
            "201/201 [==============================] - 1s 7ms/step - loss: 0.9248 - accuracy: 0.6646\n",
            "Epoch 41/100\n",
            "201/201 [==============================] - 1s 7ms/step - loss: 0.9164 - accuracy: 0.6684\n",
            "Epoch 42/100\n",
            "201/201 [==============================] - 1s 7ms/step - loss: 0.9077 - accuracy: 0.6720\n",
            "Epoch 43/100\n",
            "201/201 [==============================] - 1s 7ms/step - loss: 0.8993 - accuracy: 0.6723\n",
            "Epoch 44/100\n",
            "201/201 [==============================] - 2s 8ms/step - loss: 0.8893 - accuracy: 0.6787\n",
            "Epoch 45/100\n",
            "201/201 [==============================] - 1s 7ms/step - loss: 0.8912 - accuracy: 0.6763\n",
            "Epoch 46/100\n",
            "201/201 [==============================] - 1s 7ms/step - loss: 0.8894 - accuracy: 0.6787\n",
            "Epoch 47/100\n",
            "201/201 [==============================] - 1s 7ms/step - loss: 0.8803 - accuracy: 0.6818\n",
            "Epoch 48/100\n",
            "201/201 [==============================] - 1s 7ms/step - loss: 0.8767 - accuracy: 0.6845\n",
            "Epoch 49/100\n",
            "201/201 [==============================] - 1s 7ms/step - loss: 0.8707 - accuracy: 0.6859\n",
            "Epoch 50/100\n",
            "201/201 [==============================] - 1s 7ms/step - loss: 0.8603 - accuracy: 0.6896\n",
            "Epoch 51/100\n",
            "201/201 [==============================] - 1s 7ms/step - loss: 0.8618 - accuracy: 0.6877\n",
            "Epoch 52/100\n",
            "201/201 [==============================] - 1s 7ms/step - loss: 0.8522 - accuracy: 0.6897\n",
            "Epoch 53/100\n",
            "201/201 [==============================] - 1s 7ms/step - loss: 0.8369 - accuracy: 0.6956\n",
            "Epoch 54/100\n",
            "201/201 [==============================] - 1s 7ms/step - loss: 0.8513 - accuracy: 0.6918\n",
            "Epoch 55/100\n",
            "201/201 [==============================] - 1s 7ms/step - loss: 0.8407 - accuracy: 0.6952\n",
            "Epoch 56/100\n",
            "201/201 [==============================] - 1s 7ms/step - loss: 0.8322 - accuracy: 0.6973\n",
            "Epoch 57/100\n",
            "201/201 [==============================] - 1s 7ms/step - loss: 0.8302 - accuracy: 0.6980\n",
            "Epoch 58/100\n",
            "201/201 [==============================] - 1s 7ms/step - loss: 0.8212 - accuracy: 0.7033\n",
            "Epoch 59/100\n",
            "201/201 [==============================] - 1s 7ms/step - loss: 0.8232 - accuracy: 0.7013\n",
            "Epoch 60/100\n",
            "201/201 [==============================] - 1s 7ms/step - loss: 0.8220 - accuracy: 0.7052\n",
            "Epoch 61/100\n",
            "201/201 [==============================] - 1s 7ms/step - loss: 0.8141 - accuracy: 0.7057\n",
            "Epoch 62/100\n",
            "201/201 [==============================] - 1s 7ms/step - loss: 0.8096 - accuracy: 0.7068\n",
            "Epoch 63/100\n",
            "201/201 [==============================] - 1s 7ms/step - loss: 0.8051 - accuracy: 0.7093\n",
            "Epoch 64/100\n",
            "201/201 [==============================] - 1s 7ms/step - loss: 0.8066 - accuracy: 0.7099\n",
            "Epoch 65/100\n",
            "201/201 [==============================] - 1s 7ms/step - loss: 0.8053 - accuracy: 0.7100\n",
            "Epoch 66/100\n",
            "201/201 [==============================] - 1s 7ms/step - loss: 0.7975 - accuracy: 0.7127\n",
            "Epoch 67/100\n",
            "201/201 [==============================] - 1s 7ms/step - loss: 0.7951 - accuracy: 0.7129\n",
            "Epoch 68/100\n",
            "201/201 [==============================] - 1s 7ms/step - loss: 0.7897 - accuracy: 0.7155\n",
            "Epoch 69/100\n",
            "201/201 [==============================] - 1s 7ms/step - loss: 0.7838 - accuracy: 0.7177\n",
            "Epoch 70/100\n",
            "201/201 [==============================] - 1s 7ms/step - loss: 0.7841 - accuracy: 0.7178\n",
            "Epoch 71/100\n",
            "201/201 [==============================] - 1s 7ms/step - loss: 0.7797 - accuracy: 0.7165\n",
            "Epoch 72/100\n",
            "201/201 [==============================] - 1s 7ms/step - loss: 0.7749 - accuracy: 0.7201\n",
            "Epoch 73/100\n",
            "201/201 [==============================] - 1s 7ms/step - loss: 0.7753 - accuracy: 0.7204\n",
            "Epoch 74/100\n",
            "201/201 [==============================] - 1s 7ms/step - loss: 0.7759 - accuracy: 0.7207\n",
            "Epoch 75/100\n",
            "201/201 [==============================] - 1s 7ms/step - loss: 0.7577 - accuracy: 0.7267\n",
            "Epoch 76/100\n",
            "201/201 [==============================] - 1s 7ms/step - loss: 0.7613 - accuracy: 0.7256\n",
            "Epoch 77/100\n",
            "201/201 [==============================] - 1s 7ms/step - loss: 0.7521 - accuracy: 0.7300\n",
            "Epoch 78/100\n",
            "201/201 [==============================] - 1s 7ms/step - loss: 0.7544 - accuracy: 0.7275\n",
            "Epoch 79/100\n",
            "201/201 [==============================] - 1s 7ms/step - loss: 0.7428 - accuracy: 0.7314\n",
            "Epoch 80/100\n",
            "201/201 [==============================] - 1s 7ms/step - loss: 0.7502 - accuracy: 0.7296\n",
            "Epoch 81/100\n",
            "201/201 [==============================] - 1s 7ms/step - loss: 0.7484 - accuracy: 0.7310\n",
            "Epoch 82/100\n",
            "201/201 [==============================] - 1s 7ms/step - loss: 0.7479 - accuracy: 0.7308\n",
            "Epoch 83/100\n",
            "201/201 [==============================] - 1s 7ms/step - loss: 0.7432 - accuracy: 0.7317\n",
            "Epoch 84/100\n",
            "201/201 [==============================] - 1s 7ms/step - loss: 0.7476 - accuracy: 0.7325\n",
            "Epoch 85/100\n",
            "201/201 [==============================] - 1s 7ms/step - loss: 0.7298 - accuracy: 0.7391\n",
            "Epoch 86/100\n",
            "201/201 [==============================] - 1s 7ms/step - loss: 0.7302 - accuracy: 0.7390\n",
            "Epoch 87/100\n",
            "201/201 [==============================] - 1s 7ms/step - loss: 0.7322 - accuracy: 0.7380\n",
            "Epoch 88/100\n",
            "201/201 [==============================] - 1s 7ms/step - loss: 0.7233 - accuracy: 0.7410\n",
            "Epoch 89/100\n",
            "201/201 [==============================] - 1s 7ms/step - loss: 0.7167 - accuracy: 0.7420\n",
            "Epoch 90/100\n",
            "201/201 [==============================] - 1s 7ms/step - loss: 0.7270 - accuracy: 0.7422\n",
            "Epoch 91/100\n",
            "201/201 [==============================] - 2s 7ms/step - loss: 0.7195 - accuracy: 0.7415\n",
            "Epoch 92/100\n",
            "201/201 [==============================] - 1s 7ms/step - loss: 0.7144 - accuracy: 0.7433\n",
            "Epoch 93/100\n",
            "201/201 [==============================] - 1s 7ms/step - loss: 0.7069 - accuracy: 0.7475\n",
            "Epoch 94/100\n",
            "201/201 [==============================] - 1s 7ms/step - loss: 0.7021 - accuracy: 0.7472\n",
            "Epoch 95/100\n",
            "201/201 [==============================] - 1s 7ms/step - loss: 0.7067 - accuracy: 0.7469\n",
            "Epoch 96/100\n",
            "201/201 [==============================] - 1s 7ms/step - loss: 0.7100 - accuracy: 0.7469\n",
            "Epoch 97/100\n",
            "201/201 [==============================] - 1s 7ms/step - loss: 0.7069 - accuracy: 0.7471\n",
            "Epoch 98/100\n",
            "201/201 [==============================] - 1s 7ms/step - loss: 0.7016 - accuracy: 0.7485\n",
            "Epoch 99/100\n",
            "201/201 [==============================] - 1s 7ms/step - loss: 0.6982 - accuracy: 0.7503\n",
            "Epoch 100/100\n",
            "201/201 [==============================] - 1s 7ms/step - loss: 0.6954 - accuracy: 0.7510\n"
          ],
          "name": "stdout"
        }
      ]
    },
    {
      "cell_type": "code",
      "metadata": {
        "id": "Yy7_R94ZWv8B",
        "outputId": "8a418143-b9fa-462c-c877-331d55caf8ac",
        "colab": {
          "base_uri": "https://localhost:8080/",
          "height": 68
        }
      },
      "source": [
        "score = model.evaluate(x_test, y_test, verbose=1)\n",
        "print('Test loss:', score[0])\n",
        "print('Test accuracy:', score[1])"
      ],
      "execution_count": 41,
      "outputs": [
        {
          "output_type": "stream",
          "text": [
            "229/229 [==============================] - 1s 3ms/step - loss: 0.6875 - accuracy: 0.7572\n",
            "Test loss: 0.6874601244926453\n",
            "Test accuracy: 0.7572404146194458\n"
          ],
          "name": "stdout"
        }
      ]
    },
    {
      "cell_type": "code",
      "metadata": {
        "id": "45Q1Xh0wWv8I",
        "outputId": "d7ee1255-f103-4004-8741-2f9efb6538fd",
        "colab": {
          "base_uri": "https://localhost:8080/",
          "height": 299
        }
      },
      "source": [
        "N = num_classes\n",
        "EPOCS = 100\n",
        "# construct a plot that plots and saves the training history\n",
        "import matplotlib.pyplot as plt\n",
        "N = np.arange(0, EPOCS)\n",
        "plt.style.use(\"ggplot\")\n",
        "plt.figure()\n",
        "plt.plot(N, H.history[\"loss\"], label=\"train_loss\")\n",
        "#plt.plot(N, H.history[\"val_loss\"], label=\"val_loss\")\n",
        "plt.title(\"Training Loss and Validation Loss\")\n",
        "plt.xlabel(\"Epoch #\")\n",
        "plt.ylabel(\"Loss/Accuracy\")\n",
        "plt.legend(loc=\"lower left\")\n",
        "plt.show()\n",
        "#base_path_graphs = '/content/drive/My Drive/Google_Colab/Autoencoder/Graphs/'\n",
        "#path_loss_acc = base_path_graphs + model_name + 'Train_loss_Val_loss.png'\n",
        "#plt.savefig(base_path_graphs, dpi=1000, bbox_inches='tight')\n",
        "#files.download( \"Train_Accuracy.png\" )"
      ],
      "execution_count": 44,
      "outputs": [
        {
          "output_type": "display_data",
          "data": {
            "image/png": "[encoded data removed]",
            "text/plain": [
              "<Figure size 432x288 with 1 Axes>"
            ]
          },
          "metadata": {
            "tags": []
          }
        }
      ]
    },
    {
      "cell_type": "code",
      "metadata": {
        "id": "FzB8q0aFNrew"
      },
      "source": [
        "from sklearn.utils.multiclass import unique_labels\n",
        "def plot_confusion_matrix(y_true, y_pred, classes,\n",
        "                          normalize=False,\n",
        "                          title=None,\n",
        "                          cmap=plt.cm.Blues):\n",
        "    \"\"\"\n",
        "    This function prints and plots the confusion matrix.\n",
        "    Normalization can be applied by setting `normalize=True`.\n",
        "    \"\"\"\n",
        "    if not title:\n",
        "        if normalize:\n",
        "            title = 'Normalized confusion matrix'\n",
        "        else:\n",
        "            title = 'Confusion matrix, without normalization'\n",
        "\n",
        "    # Compute confusion matrix\n",
        "    cm = confusion_matrix(y_true, y_pred)\n",
        "    # Only use the labels that appear in the data\n",
        "    classes = classes[unique_labels(y_true, y_pred)]\n",
        "    if normalize:\n",
        "        cm = cm.astype('float') / cm.sum(axis=1)[:, np.newaxis]\n",
        "        print(\"Normalized confusion matrix\")\n",
        "    else:\n",
        "        print('Confusion matrix, without normalization')\n",
        "\n",
        "    print(cm)\n",
        "\n",
        "    fig, ax = plt.subplots()\n",
        "    im = ax.imshow(cm, interpolation='nearest', cmap=cmap)\n",
        "    ax.figure.colorbar(im, ax=ax)\n",
        "    # We want to show all ticks...\n",
        "    ax.set(xticks=np.arange(cm.shape[1]),\n",
        "           yticks=np.arange(cm.shape[0]),\n",
        "           # ... and label them with the respective list entries\n",
        "           xticklabels=classes, yticklabels=classes,\n",
        "           title=title,\n",
        "           ylabel='True label',\n",
        "           xlabel='Predicted label')\n",
        "\n",
        "    # Rotate the tick labels and set their alignment.\n",
        "    plt.setp(ax.get_xticklabels(), rotation=45, ha=\"right\",\n",
        "             rotation_mode=\"anchor\")\n",
        "\n",
        "    # Loop over data dimensions and create text annotations.\n",
        "    fmt = '.2f' if normalize else 'd'\n",
        "    thresh = cm.max() / 2.\n",
        "    for i in range(cm.shape[0]):\n",
        "        for j in range(cm.shape[1]):\n",
        "            ax.text(j, i, format(cm[i, j], fmt),\n",
        "                    ha=\"center\", va=\"center\",\n",
        "                    color=\"white\" if cm[i, j] > thresh else \"black\")\n",
        "    fig.tight_layout()\n",
        "    return ax\n",
        "\n",
        "\n",
        "np.set_printoptions(precision=2)"
      ],
      "execution_count": 47,
      "outputs": []
    },
    {
      "cell_type": "code",
      "metadata": {
        "id": "qXIp56bZNs3l",
        "outputId": "4020bacd-ac3c-49d9-d5c5-541f06f5e282",
        "colab": {
          "base_uri": "https://localhost:8080/",
          "height": 1000
        }
      },
      "source": [
        "from sklearn.metrics import confusion_matrix\n",
        "\n",
        "y_pred = model.predict(x_test)\n",
        "y_test_argmax = y_test.argmax(axis=1)\n",
        "y_pred_argmax = y_pred.argmax(axis=1)\n",
        "\n",
        "class_names = np.array([0, 1, 2, 3, 4, 5, 6, 7, 8, 9, 10, 11])\n",
        "\n",
        "# Plot non-normalized confusion matrix\n",
        "plot_confusion_matrix(y_test_argmax, y_pred_argmax, classes=class_names,\n",
        "                      title='Confusion matrix, without normalization')\n",
        "# Plot normalized confusion matrix\n",
        "plot_confusion_matrix(y_test_argmax, y_pred_argmax, classes=class_names, normalize=True,\n",
        "                      title='Normalized confusion matrix')\n",
        "\n",
        "plt.show()\n"
      ],
      "execution_count": 48,
      "outputs": [
        {
          "output_type": "stream",
          "text": [
            "Confusion matrix, without normalization\n",
            "[[ 643    1    8    7   19    2    2   17  155]\n",
            " [  16  808   32   22    2    8    5    9   74]\n",
            " [  51    9 1124   41   19   11   13    8   66]\n",
            " [  44    4   15  484   12    3    2   39  129]\n",
            " [  49    0   11   10  245    0    1    7  104]\n",
            " [  34    4    6    4    2  556    4    7  115]\n",
            " [   6   11    8    1    0   16  813   18  225]\n",
            " [  21    2    2    7    9    1    5  421  203]\n",
            " [  15    0    1    1    0    1    4   17  449]]\n",
            "Normalized confusion matrix\n",
            "[[7.53e-01 1.17e-03 9.37e-03 8.20e-03 2.22e-02 2.34e-03 2.34e-03 1.99e-02\n",
            "  1.81e-01]\n",
            " [1.64e-02 8.28e-01 3.28e-02 2.25e-02 2.05e-03 8.20e-03 5.12e-03 9.22e-03\n",
            "  7.58e-02]\n",
            " [3.80e-02 6.71e-03 8.38e-01 3.06e-02 1.42e-02 8.20e-03 9.69e-03 5.96e-03\n",
            "  4.92e-02]\n",
            " [6.01e-02 5.46e-03 2.05e-02 6.61e-01 1.64e-02 4.10e-03 2.73e-03 5.33e-02\n",
            "  1.76e-01]\n",
            " [1.15e-01 0.00e+00 2.58e-02 2.34e-02 5.74e-01 0.00e+00 2.34e-03 1.64e-02\n",
            "  2.44e-01]\n",
            " [4.64e-02 5.46e-03 8.20e-03 5.46e-03 2.73e-03 7.60e-01 5.46e-03 9.56e-03\n",
            "  1.57e-01]\n",
            " [5.46e-03 1.00e-02 7.29e-03 9.11e-04 0.00e+00 1.46e-02 7.40e-01 1.64e-02\n",
            "  2.05e-01]\n",
            " [3.13e-02 2.98e-03 2.98e-03 1.04e-02 1.34e-02 1.49e-03 7.45e-03 6.27e-01\n",
            "  3.03e-01]\n",
            " [3.07e-02 0.00e+00 2.05e-03 2.05e-03 0.00e+00 2.05e-03 8.20e-03 3.48e-02\n",
            "  9.20e-01]]\n"
          ],
          "name": "stdout"
        },
        {
          "output_type": "display_data",
          "data": {
            "image/png": "[encoded data removed]",
            "text/plain": [
              "<Figure size 432x288 with 2 Axes>"
            ]
          },
          "metadata": {
            "tags": []
          }
        },
        {
          "output_type": "display_data",
          "data": {
            "image/png": "[encoded data removed]",
            "text/plain": [
              "<Figure size 432x288 with 2 Axes>"
            ]
          },
          "metadata": {
            "tags": []
          }
        }
      ]
    },
    {
      "cell_type": "markdown",
      "metadata": {
        "id": "k2RLNoH0M-zV"
      },
      "source": [
        "Referece (Thanks!)\n",
        "\n",
        "[Blog](https://medium.com/@Rehan_Sayyad/eeg-signal-classification-using-deep-learning-709ae47c3706)\n",
        "\n",
        "[Code](https://github.com/Rehan-A/EEG-signal-classification-using-Deep-Learning/blob/master/Deap.ipynb)"
      ]
    }
  ]
}