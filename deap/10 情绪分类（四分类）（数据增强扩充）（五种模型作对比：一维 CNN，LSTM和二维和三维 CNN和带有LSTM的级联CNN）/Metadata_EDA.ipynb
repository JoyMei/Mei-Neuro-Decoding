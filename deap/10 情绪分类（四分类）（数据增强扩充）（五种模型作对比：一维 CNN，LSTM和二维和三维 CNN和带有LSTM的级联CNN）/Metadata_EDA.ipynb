{
  "nbformat": 4,
  "nbformat_minor": 0,
  "metadata": {
    "kernelspec": {
      "display_name": "Python 3",
      "language": "python",
      "name": "python3"
    },
    "language_info": {
      "codemirror_mode": {
        "name": "ipython",
        "version": 3
      },
      "file_extension": ".py",
      "mimetype": "text/x-python",
      "name": "python",
      "nbconvert_exporter": "python",
      "pygments_lexer": "ipython3",
      "version": "3.7.1"
    },
    "colab": {
      "name": "Metadata EDA.ipynb",
      "provenance": [],
      "collapsed_sections": [
        "U1bsrWmZAmVf"
      ],
      "toc_visible": true,
      "include_colab_link": true
    }
  },
  "cells": [
    {
      "cell_type": "markdown",
      "metadata": {
        "id": "view-in-github",
        "colab_type": "text"
      },
      "source": [
        "<a href=\"https://colab.research.google.com/github/vipulSharma18/Automatic-Emotion-Recognition-on-DEAP-Dataset/blob/main/Metadata_EDA.ipynb\" target=\"_parent\"><img src=\"https://colab.research.google.com/assets/colab-badge.svg\" alt=\"Open In Colab\"/></a>"
      ]
    },
    {
      "cell_type": "markdown",
      "metadata": {
        "id": "U1bsrWmZAmVf"
      },
      "source": [
        "# EDA of subjective and online ratings of participants on the Valence-Arousal Scale (Old Code Made on local Machine)"
      ]
    },
    {
      "cell_type": "code",
      "metadata": {
        "id": "-skkBVGB-JiC"
      },
      "source": [
        "import pandas as pd\n",
        "import matplotlib.pyplot as plt\n",
        "import numpy as np\n",
        "%matplotlib inline"
      ],
      "execution_count": null,
      "outputs": []
    },
    {
      "cell_type": "markdown",
      "metadata": {
        "id": "iqAfIlV5-Jia"
      },
      "source": [
        "Please Ensure the versions of modules are suitable and compatible with the modules used in the notebook to avoid deprecated functions' usage\n",
        "\n",
        "> Pandas: 0.25.1  \n",
        "> Matplotlib: 3.1.1  \n",
        "> Numpy: 1.15.4  \n",
        "\n",
        "__Use below code to check your own versions of the modules__  \n",
        "\n",
        "`  \n",
        "import pandas\n",
        "import matplotlib\n",
        "import numpy\n",
        "print(pandas.__version__)\n",
        "print(matplotlib.__version__)\n",
        "print(numpy.__version__)\n",
        "`  \n",
        "__One may use below code to install the required modules, use conda if available else use the code for pip install inside a jupyter notebook cell__\n",
        "  \n",
        "`import sys\n",
        "!conda install --yes --prefix {sys.prefix} numpy`  \n",
        "  \n",
        "`import sys\n",
        "!{sys.executable} -m pip install numpy`  "
      ]
    },
    {
      "cell_type": "markdown",
      "metadata": {
        "id": "Kz0UIGtj-Jic"
      },
      "source": [
        "Please write the path of the respective metadata excel files below"
      ]
    },
    {
      "cell_type": "code",
      "metadata": {
        "id": "VQTrrfTD-Jie"
      },
      "source": [
        "online_ratings = pd.read_excel(\".\\\\DEAP Dataset\\\\metadata\\\\online_ratings.xls\")\n",
        "participant_questionnaire = pd.read_excel(\".\\\\DEAP Dataset\\\\metadata\\\\participant_questionnaire.xls\")\n",
        "participant_ratings = pd.read_excel(\".\\\\DEAP Dataset\\\\metadata\\\\participant_ratings.xls\")\n",
        "video_list = pd.read_excel(\".\\\\DEAP Dataset\\\\metadata\\\\video_list.xls\")"
      ],
      "execution_count": null,
      "outputs": []
    },
    {
      "cell_type": "code",
      "metadata": {
        "collapsed": true,
        "id": "ipBvYe7T-Jig",
        "outputId": "a1b4afc1-a3e4-41a0-c64a-c49540410247"
      },
      "source": [
        "#check if files successfully read as pandas dataframes\n",
        "print(\"Online ratings\")\n",
        "display(online_ratings.describe())\n",
        "print(\"participant questionnaire\")\n",
        "display(participant_questionnaire.describe())\n",
        "print(\"participant ratings\")\n",
        "display(participant_ratings.describe())\n",
        "print(\"video list\")\n",
        "display(video_list.describe())"
      ],
      "execution_count": null,
      "outputs": [
        {
          "output_type": "stream",
          "text": [
            "Online ratings\n"
          ],
          "name": "stdout"
        },
        {
          "output_type": "display_data",
          "data": {
            "text/html": [
              "<div>\n",
              "<style scoped>\n",
              "    .dataframe tbody tr th:only-of-type {\n",
              "        vertical-align: middle;\n",
              "    }\n",
              "\n",
              "    .dataframe tbody tr th {\n",
              "        vertical-align: top;\n",
              "    }\n",
              "\n",
              "    .dataframe thead th {\n",
              "        text-align: right;\n",
              "    }\n",
              "</style>\n",
              "<table border=\"1\" class=\"dataframe\">\n",
              "  <thead>\n",
              "    <tr style=\"text-align: right;\">\n",
              "      <th></th>\n",
              "      <th>Online_id</th>\n",
              "      <th>Valence</th>\n",
              "      <th>Arousal</th>\n",
              "      <th>Dominance</th>\n",
              "      <th>Wheel_slice</th>\n",
              "      <th>Wheel_strength</th>\n",
              "    </tr>\n",
              "  </thead>\n",
              "  <tbody>\n",
              "    <tr>\n",
              "      <td>count</td>\n",
              "      <td>1778.000000</td>\n",
              "      <td>1778.000000</td>\n",
              "      <td>1778.000000</td>\n",
              "      <td>1778.00000</td>\n",
              "      <td>1778.000000</td>\n",
              "      <td>1778.000000</td>\n",
              "    </tr>\n",
              "    <tr>\n",
              "      <td>mean</td>\n",
              "      <td>60.931946</td>\n",
              "      <td>5.320022</td>\n",
              "      <td>4.794713</td>\n",
              "      <td>5.02081</td>\n",
              "      <td>6.925197</td>\n",
              "      <td>2.323397</td>\n",
              "    </tr>\n",
              "    <tr>\n",
              "      <td>std</td>\n",
              "      <td>34.424857</td>\n",
              "      <td>2.094679</td>\n",
              "      <td>2.274627</td>\n",
              "      <td>2.09781</td>\n",
              "      <td>4.809427</td>\n",
              "      <td>1.244695</td>\n",
              "    </tr>\n",
              "    <tr>\n",
              "      <td>min</td>\n",
              "      <td>1.000000</td>\n",
              "      <td>1.000000</td>\n",
              "      <td>1.000000</td>\n",
              "      <td>1.00000</td>\n",
              "      <td>0.000000</td>\n",
              "      <td>0.000000</td>\n",
              "    </tr>\n",
              "    <tr>\n",
              "      <td>25%</td>\n",
              "      <td>31.000000</td>\n",
              "      <td>4.000000</td>\n",
              "      <td>3.000000</td>\n",
              "      <td>4.00000</td>\n",
              "      <td>3.000000</td>\n",
              "      <td>1.000000</td>\n",
              "    </tr>\n",
              "    <tr>\n",
              "      <td>50%</td>\n",
              "      <td>61.000000</td>\n",
              "      <td>5.000000</td>\n",
              "      <td>5.000000</td>\n",
              "      <td>5.00000</td>\n",
              "      <td>6.500000</td>\n",
              "      <td>2.000000</td>\n",
              "    </tr>\n",
              "    <tr>\n",
              "      <td>75%</td>\n",
              "      <td>91.000000</td>\n",
              "      <td>7.000000</td>\n",
              "      <td>7.000000</td>\n",
              "      <td>6.00000</td>\n",
              "      <td>9.000000</td>\n",
              "      <td>3.000000</td>\n",
              "    </tr>\n",
              "    <tr>\n",
              "      <td>max</td>\n",
              "      <td>120.000000</td>\n",
              "      <td>9.000000</td>\n",
              "      <td>9.000000</td>\n",
              "      <td>9.00000</td>\n",
              "      <td>16.000000</td>\n",
              "      <td>4.000000</td>\n",
              "    </tr>\n",
              "  </tbody>\n",
              "</table>\n",
              "</div>"
            ],
            "text/plain": [
              "         Online_id      Valence      Arousal   Dominance  Wheel_slice  \\\n",
              "count  1778.000000  1778.000000  1778.000000  1778.00000  1778.000000   \n",
              "mean     60.931946     5.320022     4.794713     5.02081     6.925197   \n",
              "std      34.424857     2.094679     2.274627     2.09781     4.809427   \n",
              "min       1.000000     1.000000     1.000000     1.00000     0.000000   \n",
              "25%      31.000000     4.000000     3.000000     4.00000     3.000000   \n",
              "50%      61.000000     5.000000     5.000000     5.00000     6.500000   \n",
              "75%      91.000000     7.000000     7.000000     6.00000     9.000000   \n",
              "max     120.000000     9.000000     9.000000     9.00000    16.000000   \n",
              "\n",
              "       Wheel_strength  \n",
              "count     1778.000000  \n",
              "mean         2.323397  \n",
              "std          1.244695  \n",
              "min          0.000000  \n",
              "25%          1.000000  \n",
              "50%          2.000000  \n",
              "75%          3.000000  \n",
              "max          4.000000  "
            ]
          },
          "metadata": {
            "tags": []
          }
        },
        {
          "output_type": "stream",
          "text": [
            "participant questionnaire\n"
          ],
          "name": "stdout"
        },
        {
          "output_type": "display_data",
          "data": {
            "text/html": [
              "<div>\n",
              "<style scoped>\n",
              "    .dataframe tbody tr th:only-of-type {\n",
              "        vertical-align: middle;\n",
              "    }\n",
              "\n",
              "    .dataframe tbody tr th {\n",
              "        vertical-align: top;\n",
              "    }\n",
              "\n",
              "    .dataframe thead th {\n",
              "        text-align: right;\n",
              "    }\n",
              "</style>\n",
              "<table border=\"1\" class=\"dataframe\">\n",
              "  <thead>\n",
              "    <tr style=\"text-align: right;\">\n",
              "      <th></th>\n",
              "      <th>Age</th>\n",
              "      <th>Hours of sleep last night</th>\n",
              "      <th>Consent to distribute physiological recordings</th>\n",
              "      <th>Consent to publish audio-visual recordings</th>\n",
              "      <th>Head circumference (cm)</th>\n",
              "    </tr>\n",
              "  </thead>\n",
              "  <tbody>\n",
              "    <tr>\n",
              "      <td>count</td>\n",
              "      <td>32.000000</td>\n",
              "      <td>31.000000</td>\n",
              "      <td>32.0</td>\n",
              "      <td>22.000000</td>\n",
              "      <td>31.000000</td>\n",
              "    </tr>\n",
              "    <tr>\n",
              "      <td>mean</td>\n",
              "      <td>27.187500</td>\n",
              "      <td>7.532258</td>\n",
              "      <td>1.0</td>\n",
              "      <td>0.727273</td>\n",
              "      <td>56.709677</td>\n",
              "    </tr>\n",
              "    <tr>\n",
              "      <td>std</td>\n",
              "      <td>4.446365</td>\n",
              "      <td>0.999462</td>\n",
              "      <td>0.0</td>\n",
              "      <td>0.455842</td>\n",
              "      <td>2.351504</td>\n",
              "    </tr>\n",
              "    <tr>\n",
              "      <td>min</td>\n",
              "      <td>19.000000</td>\n",
              "      <td>6.000000</td>\n",
              "      <td>1.0</td>\n",
              "      <td>0.000000</td>\n",
              "      <td>50.000000</td>\n",
              "    </tr>\n",
              "    <tr>\n",
              "      <td>25%</td>\n",
              "      <td>24.000000</td>\n",
              "      <td>7.000000</td>\n",
              "      <td>1.0</td>\n",
              "      <td>0.250000</td>\n",
              "      <td>55.000000</td>\n",
              "    </tr>\n",
              "    <tr>\n",
              "      <td>50%</td>\n",
              "      <td>27.000000</td>\n",
              "      <td>7.000000</td>\n",
              "      <td>1.0</td>\n",
              "      <td>1.000000</td>\n",
              "      <td>57.000000</td>\n",
              "    </tr>\n",
              "    <tr>\n",
              "      <td>75%</td>\n",
              "      <td>30.250000</td>\n",
              "      <td>8.000000</td>\n",
              "      <td>1.0</td>\n",
              "      <td>1.000000</td>\n",
              "      <td>58.000000</td>\n",
              "    </tr>\n",
              "    <tr>\n",
              "      <td>max</td>\n",
              "      <td>37.000000</td>\n",
              "      <td>10.000000</td>\n",
              "      <td>1.0</td>\n",
              "      <td>1.000000</td>\n",
              "      <td>61.000000</td>\n",
              "    </tr>\n",
              "  </tbody>\n",
              "</table>\n",
              "</div>"
            ],
            "text/plain": [
              "             Age  Hours of sleep last night  \\\n",
              "count  32.000000                  31.000000   \n",
              "mean   27.187500                   7.532258   \n",
              "std     4.446365                   0.999462   \n",
              "min    19.000000                   6.000000   \n",
              "25%    24.000000                   7.000000   \n",
              "50%    27.000000                   7.000000   \n",
              "75%    30.250000                   8.000000   \n",
              "max    37.000000                  10.000000   \n",
              "\n",
              "       Consent to distribute physiological recordings  \\\n",
              "count                                            32.0   \n",
              "mean                                              1.0   \n",
              "std                                               0.0   \n",
              "min                                               1.0   \n",
              "25%                                               1.0   \n",
              "50%                                               1.0   \n",
              "75%                                               1.0   \n",
              "max                                               1.0   \n",
              "\n",
              "       Consent to publish audio-visual recordings  Head circumference (cm)  \n",
              "count                                   22.000000                31.000000  \n",
              "mean                                     0.727273                56.709677  \n",
              "std                                      0.455842                 2.351504  \n",
              "min                                      0.000000                50.000000  \n",
              "25%                                      0.250000                55.000000  \n",
              "50%                                      1.000000                57.000000  \n",
              "75%                                      1.000000                58.000000  \n",
              "max                                      1.000000                61.000000  "
            ]
          },
          "metadata": {
            "tags": []
          }
        },
        {
          "output_type": "stream",
          "text": [
            "participant ratings\n"
          ],
          "name": "stdout"
        },
        {
          "output_type": "display_data",
          "data": {
            "text/html": [
              "<div>\n",
              "<style scoped>\n",
              "    .dataframe tbody tr th:only-of-type {\n",
              "        vertical-align: middle;\n",
              "    }\n",
              "\n",
              "    .dataframe tbody tr th {\n",
              "        vertical-align: top;\n",
              "    }\n",
              "\n",
              "    .dataframe thead th {\n",
              "        text-align: right;\n",
              "    }\n",
              "</style>\n",
              "<table border=\"1\" class=\"dataframe\">\n",
              "  <thead>\n",
              "    <tr style=\"text-align: right;\">\n",
              "      <th></th>\n",
              "      <th>Participant_id</th>\n",
              "      <th>Trial</th>\n",
              "      <th>Experiment_id</th>\n",
              "      <th>Start_time</th>\n",
              "      <th>Valence</th>\n",
              "      <th>Arousal</th>\n",
              "      <th>Dominance</th>\n",
              "      <th>Liking</th>\n",
              "      <th>Familiarity</th>\n",
              "    </tr>\n",
              "  </thead>\n",
              "  <tbody>\n",
              "    <tr>\n",
              "      <td>count</td>\n",
              "      <td>1280.000000</td>\n",
              "      <td>1280.000000</td>\n",
              "      <td>1280.000000</td>\n",
              "      <td>1.280000e+03</td>\n",
              "      <td>1280.000000</td>\n",
              "      <td>1280.000000</td>\n",
              "      <td>1280.000000</td>\n",
              "      <td>1280.000000</td>\n",
              "      <td>1160.000000</td>\n",
              "    </tr>\n",
              "    <tr>\n",
              "      <td>mean</td>\n",
              "      <td>16.500000</td>\n",
              "      <td>20.500000</td>\n",
              "      <td>20.500000</td>\n",
              "      <td>2.054696e+07</td>\n",
              "      <td>5.254313</td>\n",
              "      <td>5.156711</td>\n",
              "      <td>5.382750</td>\n",
              "      <td>5.518133</td>\n",
              "      <td>2.347414</td>\n",
              "    </tr>\n",
              "    <tr>\n",
              "      <td>std</td>\n",
              "      <td>9.236701</td>\n",
              "      <td>11.547908</td>\n",
              "      <td>11.547908</td>\n",
              "      <td>1.052269e+07</td>\n",
              "      <td>2.130816</td>\n",
              "      <td>2.020499</td>\n",
              "      <td>2.096321</td>\n",
              "      <td>2.282780</td>\n",
              "      <td>1.566747</td>\n",
              "    </tr>\n",
              "    <tr>\n",
              "      <td>min</td>\n",
              "      <td>1.000000</td>\n",
              "      <td>1.000000</td>\n",
              "      <td>1.000000</td>\n",
              "      <td>1.695918e+06</td>\n",
              "      <td>1.000000</td>\n",
              "      <td>1.000000</td>\n",
              "      <td>1.000000</td>\n",
              "      <td>1.000000</td>\n",
              "      <td>1.000000</td>\n",
              "    </tr>\n",
              "    <tr>\n",
              "      <td>25%</td>\n",
              "      <td>8.750000</td>\n",
              "      <td>10.750000</td>\n",
              "      <td>10.750000</td>\n",
              "      <td>1.149579e+07</td>\n",
              "      <td>3.867500</td>\n",
              "      <td>3.762500</td>\n",
              "      <td>3.932500</td>\n",
              "      <td>3.960000</td>\n",
              "      <td>1.000000</td>\n",
              "    </tr>\n",
              "    <tr>\n",
              "      <td>50%</td>\n",
              "      <td>16.500000</td>\n",
              "      <td>20.500000</td>\n",
              "      <td>20.500000</td>\n",
              "      <td>2.032845e+07</td>\n",
              "      <td>5.040000</td>\n",
              "      <td>5.230000</td>\n",
              "      <td>5.240000</td>\n",
              "      <td>6.050000</td>\n",
              "      <td>2.000000</td>\n",
              "    </tr>\n",
              "    <tr>\n",
              "      <td>75%</td>\n",
              "      <td>24.250000</td>\n",
              "      <td>30.250000</td>\n",
              "      <td>30.250000</td>\n",
              "      <td>2.959904e+07</td>\n",
              "      <td>7.050000</td>\n",
              "      <td>6.950000</td>\n",
              "      <td>7.040000</td>\n",
              "      <td>7.090000</td>\n",
              "      <td>4.000000</td>\n",
              "    </tr>\n",
              "    <tr>\n",
              "      <td>max</td>\n",
              "      <td>32.000000</td>\n",
              "      <td>40.000000</td>\n",
              "      <td>40.000000</td>\n",
              "      <td>4.605244e+07</td>\n",
              "      <td>9.000000</td>\n",
              "      <td>9.000000</td>\n",
              "      <td>9.000000</td>\n",
              "      <td>9.000000</td>\n",
              "      <td>5.000000</td>\n",
              "    </tr>\n",
              "  </tbody>\n",
              "</table>\n",
              "</div>"
            ],
            "text/plain": [
              "       Participant_id        Trial  Experiment_id    Start_time      Valence  \\\n",
              "count     1280.000000  1280.000000    1280.000000  1.280000e+03  1280.000000   \n",
              "mean        16.500000    20.500000      20.500000  2.054696e+07     5.254313   \n",
              "std          9.236701    11.547908      11.547908  1.052269e+07     2.130816   \n",
              "min          1.000000     1.000000       1.000000  1.695918e+06     1.000000   \n",
              "25%          8.750000    10.750000      10.750000  1.149579e+07     3.867500   \n",
              "50%         16.500000    20.500000      20.500000  2.032845e+07     5.040000   \n",
              "75%         24.250000    30.250000      30.250000  2.959904e+07     7.050000   \n",
              "max         32.000000    40.000000      40.000000  4.605244e+07     9.000000   \n",
              "\n",
              "           Arousal    Dominance       Liking  Familiarity  \n",
              "count  1280.000000  1280.000000  1280.000000  1160.000000  \n",
              "mean      5.156711     5.382750     5.518133     2.347414  \n",
              "std       2.020499     2.096321     2.282780     1.566747  \n",
              "min       1.000000     1.000000     1.000000     1.000000  \n",
              "25%       3.762500     3.932500     3.960000     1.000000  \n",
              "50%       5.230000     5.240000     6.050000     2.000000  \n",
              "75%       6.950000     7.040000     7.090000     4.000000  \n",
              "max       9.000000     9.000000     9.000000     5.000000  "
            ]
          },
          "metadata": {
            "tags": []
          }
        },
        {
          "output_type": "stream",
          "text": [
            "video list\n"
          ],
          "name": "stdout"
        },
        {
          "output_type": "display_data",
          "data": {
            "text/html": [
              "<div>\n",
              "<style scoped>\n",
              "    .dataframe tbody tr th:only-of-type {\n",
              "        vertical-align: middle;\n",
              "    }\n",
              "\n",
              "    .dataframe tbody tr th {\n",
              "        vertical-align: top;\n",
              "    }\n",
              "\n",
              "    .dataframe thead th {\n",
              "        text-align: right;\n",
              "    }\n",
              "</style>\n",
              "<table border=\"1\" class=\"dataframe\">\n",
              "  <thead>\n",
              "    <tr style=\"text-align: right;\">\n",
              "      <th></th>\n",
              "      <th>Online_id</th>\n",
              "      <th>Experiment_id</th>\n",
              "      <th>Highlight_start</th>\n",
              "      <th>Num_ratings</th>\n",
              "      <th>VAQ_Estimate</th>\n",
              "      <th>VAQ_Online</th>\n",
              "      <th>AVG_Valence</th>\n",
              "      <th>STD_Valence</th>\n",
              "      <th>Q1_Valence</th>\n",
              "      <th>Q2_Valence</th>\n",
              "      <th>...</th>\n",
              "      <th>AVG_Arousal</th>\n",
              "      <th>STD_Arousal</th>\n",
              "      <th>Q1_Arousal</th>\n",
              "      <th>Q2_Arousal</th>\n",
              "      <th>Q3_Arousal</th>\n",
              "      <th>AVG_Dominance</th>\n",
              "      <th>STD_Dominance</th>\n",
              "      <th>Q1_Dominance</th>\n",
              "      <th>Q2_Dominance</th>\n",
              "      <th>Q3_Dominance</th>\n",
              "    </tr>\n",
              "  </thead>\n",
              "  <tbody>\n",
              "    <tr>\n",
              "      <td>count</td>\n",
              "      <td>120.000000</td>\n",
              "      <td>40.000000</td>\n",
              "      <td>120.000000</td>\n",
              "      <td>120.000000</td>\n",
              "      <td>120.000000</td>\n",
              "      <td>120.000000</td>\n",
              "      <td>120.000000</td>\n",
              "      <td>120.000000</td>\n",
              "      <td>120.000000</td>\n",
              "      <td>120.000000</td>\n",
              "      <td>...</td>\n",
              "      <td>120.000000</td>\n",
              "      <td>120.000000</td>\n",
              "      <td>120.000000</td>\n",
              "      <td>120.000000</td>\n",
              "      <td>120.000000</td>\n",
              "      <td>120.000000</td>\n",
              "      <td>120.000000</td>\n",
              "      <td>120.000000</td>\n",
              "      <td>120.000000</td>\n",
              "      <td>120.000000</td>\n",
              "    </tr>\n",
              "    <tr>\n",
              "      <td>mean</td>\n",
              "      <td>60.500000</td>\n",
              "      <td>20.500000</td>\n",
              "      <td>103.375000</td>\n",
              "      <td>14.816667</td>\n",
              "      <td>2.500000</td>\n",
              "      <td>2.333333</td>\n",
              "      <td>5.324825</td>\n",
              "      <td>1.744034</td>\n",
              "      <td>3.275012</td>\n",
              "      <td>5.333333</td>\n",
              "      <td>...</td>\n",
              "      <td>4.792754</td>\n",
              "      <td>1.988101</td>\n",
              "      <td>3.275012</td>\n",
              "      <td>4.970833</td>\n",
              "      <td>6.320823</td>\n",
              "      <td>5.020602</td>\n",
              "      <td>1.909821</td>\n",
              "      <td>3.856955</td>\n",
              "      <td>5.125000</td>\n",
              "      <td>6.336103</td>\n",
              "    </tr>\n",
              "    <tr>\n",
              "      <td>std</td>\n",
              "      <td>34.785054</td>\n",
              "      <td>11.690452</td>\n",
              "      <td>75.177556</td>\n",
              "      <td>0.534260</td>\n",
              "      <td>1.122722</td>\n",
              "      <td>1.031710</td>\n",
              "      <td>1.098907</td>\n",
              "      <td>0.365429</td>\n",
              "      <td>1.388165</td>\n",
              "      <td>1.282286</td>\n",
              "      <td>...</td>\n",
              "      <td>1.057898</td>\n",
              "      <td>0.328943</td>\n",
              "      <td>1.388165</td>\n",
              "      <td>1.328890</td>\n",
              "      <td>1.157510</td>\n",
              "      <td>0.808681</td>\n",
              "      <td>0.301544</td>\n",
              "      <td>1.068289</td>\n",
              "      <td>0.953212</td>\n",
              "      <td>1.013560</td>\n",
              "    </tr>\n",
              "    <tr>\n",
              "      <td>min</td>\n",
              "      <td>1.000000</td>\n",
              "      <td>1.000000</td>\n",
              "      <td>6.000000</td>\n",
              "      <td>14.000000</td>\n",
              "      <td>1.000000</td>\n",
              "      <td>1.000000</td>\n",
              "      <td>3.200000</td>\n",
              "      <td>0.979800</td>\n",
              "      <td>1.000000</td>\n",
              "      <td>3.000000</td>\n",
              "      <td>...</td>\n",
              "      <td>2.400000</td>\n",
              "      <td>1.200000</td>\n",
              "      <td>1.000000</td>\n",
              "      <td>2.000000</td>\n",
              "      <td>3.000000</td>\n",
              "      <td>2.937500</td>\n",
              "      <td>1.319000</td>\n",
              "      <td>1.000000</td>\n",
              "      <td>3.000000</td>\n",
              "      <td>4.000000</td>\n",
              "    </tr>\n",
              "    <tr>\n",
              "      <td>25%</td>\n",
              "      <td>30.750000</td>\n",
              "      <td>10.750000</td>\n",
              "      <td>29.750000</td>\n",
              "      <td>14.750000</td>\n",
              "      <td>1.750000</td>\n",
              "      <td>1.000000</td>\n",
              "      <td>4.600000</td>\n",
              "      <td>1.490700</td>\n",
              "      <td>2.125025</td>\n",
              "      <td>4.500000</td>\n",
              "      <td>...</td>\n",
              "      <td>4.000000</td>\n",
              "      <td>1.787650</td>\n",
              "      <td>2.125025</td>\n",
              "      <td>4.000000</td>\n",
              "      <td>5.958325</td>\n",
              "      <td>4.533300</td>\n",
              "      <td>1.673525</td>\n",
              "      <td>3.000000</td>\n",
              "      <td>5.000000</td>\n",
              "      <td>5.833300</td>\n",
              "    </tr>\n",
              "    <tr>\n",
              "      <td>50%</td>\n",
              "      <td>60.500000</td>\n",
              "      <td>20.500000</td>\n",
              "      <td>111.000000</td>\n",
              "      <td>15.000000</td>\n",
              "      <td>2.500000</td>\n",
              "      <td>2.000000</td>\n",
              "      <td>5.207150</td>\n",
              "      <td>1.730800</td>\n",
              "      <td>3.000000</td>\n",
              "      <td>5.000000</td>\n",
              "      <td>...</td>\n",
              "      <td>4.828550</td>\n",
              "      <td>1.997800</td>\n",
              "      <td>3.000000</td>\n",
              "      <td>5.000000</td>\n",
              "      <td>6.041650</td>\n",
              "      <td>5.066700</td>\n",
              "      <td>1.895050</td>\n",
              "      <td>4.000000</td>\n",
              "      <td>5.000000</td>\n",
              "      <td>6.041650</td>\n",
              "    </tr>\n",
              "    <tr>\n",
              "      <td>75%</td>\n",
              "      <td>90.250000</td>\n",
              "      <td>30.250000</td>\n",
              "      <td>161.000000</td>\n",
              "      <td>15.000000</td>\n",
              "      <td>3.250000</td>\n",
              "      <td>3.000000</td>\n",
              "      <td>6.216675</td>\n",
              "      <td>1.957625</td>\n",
              "      <td>4.166700</td>\n",
              "      <td>6.125000</td>\n",
              "      <td>...</td>\n",
              "      <td>5.571400</td>\n",
              "      <td>2.212525</td>\n",
              "      <td>4.166700</td>\n",
              "      <td>6.000000</td>\n",
              "      <td>7.000000</td>\n",
              "      <td>5.508325</td>\n",
              "      <td>2.113600</td>\n",
              "      <td>5.000000</td>\n",
              "      <td>6.000000</td>\n",
              "      <td>7.000000</td>\n",
              "    </tr>\n",
              "    <tr>\n",
              "      <td>max</td>\n",
              "      <td>120.000000</td>\n",
              "      <td>40.000000</td>\n",
              "      <td>296.000000</td>\n",
              "      <td>16.000000</td>\n",
              "      <td>4.000000</td>\n",
              "      <td>4.000000</td>\n",
              "      <td>7.533300</td>\n",
              "      <td>2.594000</td>\n",
              "      <td>7.000000</td>\n",
              "      <td>8.000000</td>\n",
              "      <td>...</td>\n",
              "      <td>7.333300</td>\n",
              "      <td>2.987200</td>\n",
              "      <td>7.000000</td>\n",
              "      <td>7.500000</td>\n",
              "      <td>9.000000</td>\n",
              "      <td>7.066700</td>\n",
              "      <td>2.862800</td>\n",
              "      <td>6.000000</td>\n",
              "      <td>8.000000</td>\n",
              "      <td>9.000000</td>\n",
              "    </tr>\n",
              "  </tbody>\n",
              "</table>\n",
              "<p>8 rows × 21 columns</p>\n",
              "</div>"
            ],
            "text/plain": [
              "        Online_id  Experiment_id  Highlight_start  Num_ratings  VAQ_Estimate  \\\n",
              "count  120.000000      40.000000       120.000000   120.000000    120.000000   \n",
              "mean    60.500000      20.500000       103.375000    14.816667      2.500000   \n",
              "std     34.785054      11.690452        75.177556     0.534260      1.122722   \n",
              "min      1.000000       1.000000         6.000000    14.000000      1.000000   \n",
              "25%     30.750000      10.750000        29.750000    14.750000      1.750000   \n",
              "50%     60.500000      20.500000       111.000000    15.000000      2.500000   \n",
              "75%     90.250000      30.250000       161.000000    15.000000      3.250000   \n",
              "max    120.000000      40.000000       296.000000    16.000000      4.000000   \n",
              "\n",
              "       VAQ_Online  AVG_Valence  STD_Valence  Q1_Valence  Q2_Valence  ...  \\\n",
              "count  120.000000   120.000000   120.000000  120.000000  120.000000  ...   \n",
              "mean     2.333333     5.324825     1.744034    3.275012    5.333333  ...   \n",
              "std      1.031710     1.098907     0.365429    1.388165    1.282286  ...   \n",
              "min      1.000000     3.200000     0.979800    1.000000    3.000000  ...   \n",
              "25%      1.000000     4.600000     1.490700    2.125025    4.500000  ...   \n",
              "50%      2.000000     5.207150     1.730800    3.000000    5.000000  ...   \n",
              "75%      3.000000     6.216675     1.957625    4.166700    6.125000  ...   \n",
              "max      4.000000     7.533300     2.594000    7.000000    8.000000  ...   \n",
              "\n",
              "       AVG_Arousal  STD_Arousal  Q1_Arousal  Q2_Arousal  Q3_Arousal  \\\n",
              "count   120.000000   120.000000  120.000000  120.000000  120.000000   \n",
              "mean      4.792754     1.988101    3.275012    4.970833    6.320823   \n",
              "std       1.057898     0.328943    1.388165    1.328890    1.157510   \n",
              "min       2.400000     1.200000    1.000000    2.000000    3.000000   \n",
              "25%       4.000000     1.787650    2.125025    4.000000    5.958325   \n",
              "50%       4.828550     1.997800    3.000000    5.000000    6.041650   \n",
              "75%       5.571400     2.212525    4.166700    6.000000    7.000000   \n",
              "max       7.333300     2.987200    7.000000    7.500000    9.000000   \n",
              "\n",
              "       AVG_Dominance  STD_Dominance  Q1_Dominance  Q2_Dominance  Q3_Dominance  \n",
              "count     120.000000     120.000000    120.000000    120.000000    120.000000  \n",
              "mean        5.020602       1.909821      3.856955      5.125000      6.336103  \n",
              "std         0.808681       0.301544      1.068289      0.953212      1.013560  \n",
              "min         2.937500       1.319000      1.000000      3.000000      4.000000  \n",
              "25%         4.533300       1.673525      3.000000      5.000000      5.833300  \n",
              "50%         5.066700       1.895050      4.000000      5.000000      6.041650  \n",
              "75%         5.508325       2.113600      5.000000      6.000000      7.000000  \n",
              "max         7.066700       2.862800      6.000000      8.000000      9.000000  \n",
              "\n",
              "[8 rows x 21 columns]"
            ]
          },
          "metadata": {
            "tags": []
          }
        }
      ]
    },
    {
      "cell_type": "code",
      "metadata": {
        "id": "1mFzgDVL-Jil"
      },
      "source": [
        "def z_score(df):\n",
        "    # copy the dataframe\n",
        "    df_std = df.copy()\n",
        "    # apply the z-score method\n",
        "    for column in df_std.columns:\n",
        "        df_std[column] = (df_std[column] - df_std[column].mean()) / df_std[column].std()\n",
        "        \n",
        "    return df_std\n",
        "def min_max_scaling(df):\n",
        "    # copy the dataframe\n",
        "    df_norm = df.copy()\n",
        "    # apply min-max scaling\n",
        "    for column in df_norm.columns:\n",
        "        df_norm[column] = (df_norm[column] - df_norm[column].min()) / (df_norm[column].max() - df_norm[column].min())\n",
        "        \n",
        "    return df_norm\n",
        "    "
      ],
      "execution_count": null,
      "outputs": []
    },
    {
      "cell_type": "markdown",
      "metadata": {
        "id": "DoVk0mhx-Jim"
      },
      "source": [
        "Video list file and plotting of Valence-Arousal plot using ratings from it\n",
        "* __Online_id:__\tThe unique id used in the online self-assessment.\n",
        "* __Experiment_id:__\tIf this video was selected for the experiment, this lists the unique id used in the experiment. Blank if not selected.\n",
        "* __VAQ_Estimate:__ The valence/arousal quadrant this video was selected for by the experimenters. For each quadrant, 15 videos were selected by last.fm and 15 by manual selection. The quadrants are: 1. high arousal, high valence.  2. low arousal, high valence.  3. low arousal, low valence.  4. high arousal, low valence.\n",
        "* __VAQ_Online:__\tThe valence/arousal quadrant as determined by the average ratings of the volunteers in the online self-assessment. Note that these can and sometimes do differ from the estimated quadrants.\n",
        "* __AVG_x, STD_x, Q1_x, Q2_x, Q3_x__: \tAverage, standard deviation and first, second and third quartile of ratings x (Valence/Arousal/Dominance) by volunteers in the online self-assessment."
      ]
    },
    {
      "cell_type": "code",
      "metadata": {
        "scrolled": false,
        "id": "ed8-Yiqj-Jin"
      },
      "source": [
        "vids_selected = video_list.dropna(subset = [\"Experiment_id\"])\n",
        "vids_selected.reset_index(drop = True, inplace = True)"
      ],
      "execution_count": null,
      "outputs": []
    },
    {
      "cell_type": "markdown",
      "metadata": {
        "id": "Lr28Zy0p-Jip"
      },
      "source": [
        "vids_selected dataframe only contains the 40 videos which were selected for the experiment depending upon the emotional strength of the videos"
      ]
    },
    {
      "cell_type": "code",
      "metadata": {
        "collapsed": true,
        "id": "GYVqKz1I-Jiq",
        "outputId": "cdc29d91-e64e-4245-961c-be0e122ed93b"
      },
      "source": [
        "vids_selected.head()"
      ],
      "execution_count": null,
      "outputs": [
        {
          "output_type": "execute_result",
          "data": {
            "text/html": [
              "<div>\n",
              "<style scoped>\n",
              "    .dataframe tbody tr th:only-of-type {\n",
              "        vertical-align: middle;\n",
              "    }\n",
              "\n",
              "    .dataframe tbody tr th {\n",
              "        vertical-align: top;\n",
              "    }\n",
              "\n",
              "    .dataframe thead th {\n",
              "        text-align: right;\n",
              "    }\n",
              "</style>\n",
              "<table border=\"1\" class=\"dataframe\">\n",
              "  <thead>\n",
              "    <tr style=\"text-align: right;\">\n",
              "      <th></th>\n",
              "      <th>Online_id</th>\n",
              "      <th>Experiment_id</th>\n",
              "      <th>Lastfm_tag</th>\n",
              "      <th>Artist</th>\n",
              "      <th>Title</th>\n",
              "      <th>Youtube_link</th>\n",
              "      <th>Highlight_start</th>\n",
              "      <th>Num_ratings</th>\n",
              "      <th>VAQ_Estimate</th>\n",
              "      <th>VAQ_Online</th>\n",
              "      <th>...</th>\n",
              "      <th>AVG_Arousal</th>\n",
              "      <th>STD_Arousal</th>\n",
              "      <th>Q1_Arousal</th>\n",
              "      <th>Q2_Arousal</th>\n",
              "      <th>Q3_Arousal</th>\n",
              "      <th>AVG_Dominance</th>\n",
              "      <th>STD_Dominance</th>\n",
              "      <th>Q1_Dominance</th>\n",
              "      <th>Q2_Dominance</th>\n",
              "      <th>Q3_Dominance</th>\n",
              "    </tr>\n",
              "  </thead>\n",
              "  <tbody>\n",
              "    <tr>\n",
              "      <td>0</td>\n",
              "      <td>2</td>\n",
              "      <td>1.0</td>\n",
              "      <td>fun</td>\n",
              "      <td>Emilíana Torrini</td>\n",
              "      <td>Jungle Drum</td>\n",
              "      <td>http://www.youtube.com/watch?v=iZ9vkd7Rp-g</td>\n",
              "      <td>81</td>\n",
              "      <td>14</td>\n",
              "      <td>1</td>\n",
              "      <td>1</td>\n",
              "      <td>...</td>\n",
              "      <td>5.8571</td>\n",
              "      <td>2.1993</td>\n",
              "      <td>4.0</td>\n",
              "      <td>7.0</td>\n",
              "      <td>7.0000</td>\n",
              "      <td>6.0000</td>\n",
              "      <td>1.5584</td>\n",
              "      <td>5.0000</td>\n",
              "      <td>6.0</td>\n",
              "      <td>7.0000</td>\n",
              "    </tr>\n",
              "    <tr>\n",
              "      <td>1</td>\n",
              "      <td>7</td>\n",
              "      <td>2.0</td>\n",
              "      <td>exciting</td>\n",
              "      <td>Lustra</td>\n",
              "      <td>Scotty Doesn't Know</td>\n",
              "      <td>http://www.youtube.com/watch?v=51ncDQYxsm8</td>\n",
              "      <td>141</td>\n",
              "      <td>14</td>\n",
              "      <td>1</td>\n",
              "      <td>1</td>\n",
              "      <td>...</td>\n",
              "      <td>6.9286</td>\n",
              "      <td>1.9808</td>\n",
              "      <td>6.0</td>\n",
              "      <td>7.5</td>\n",
              "      <td>8.0000</td>\n",
              "      <td>5.5000</td>\n",
              "      <td>2.4128</td>\n",
              "      <td>3.9167</td>\n",
              "      <td>6.0</td>\n",
              "      <td>7.0833</td>\n",
              "    </tr>\n",
              "    <tr>\n",
              "      <td>2</td>\n",
              "      <td>9</td>\n",
              "      <td>11.0</td>\n",
              "      <td>happy</td>\n",
              "      <td>Michael Franti &amp; Spearhead</td>\n",
              "      <td>Say Hey (I Love You)</td>\n",
              "      <td>http://www.youtube.com/watch?v=eoaTl7IcFs8</td>\n",
              "      <td>151</td>\n",
              "      <td>14</td>\n",
              "      <td>1</td>\n",
              "      <td>2</td>\n",
              "      <td>...</td>\n",
              "      <td>4.8571</td>\n",
              "      <td>1.4569</td>\n",
              "      <td>3.0</td>\n",
              "      <td>5.0</td>\n",
              "      <td>6.0000</td>\n",
              "      <td>5.2143</td>\n",
              "      <td>1.3190</td>\n",
              "      <td>5.0000</td>\n",
              "      <td>5.0</td>\n",
              "      <td>6.0000</td>\n",
              "    </tr>\n",
              "    <tr>\n",
              "      <td>3</td>\n",
              "      <td>15</td>\n",
              "      <td>3.0</td>\n",
              "      <td>joy</td>\n",
              "      <td>Jackson 5</td>\n",
              "      <td>Blame It On The Boogie</td>\n",
              "      <td>http://www.youtube.com/watch?v=nb1u7wMKywM</td>\n",
              "      <td>21</td>\n",
              "      <td>15</td>\n",
              "      <td>1</td>\n",
              "      <td>1</td>\n",
              "      <td>...</td>\n",
              "      <td>6.4667</td>\n",
              "      <td>1.9276</td>\n",
              "      <td>6.0</td>\n",
              "      <td>7.0</td>\n",
              "      <td>7.0000</td>\n",
              "      <td>5.8000</td>\n",
              "      <td>2.0067</td>\n",
              "      <td>5.0000</td>\n",
              "      <td>7.0</td>\n",
              "      <td>7.0000</td>\n",
              "    </tr>\n",
              "    <tr>\n",
              "      <td>4</td>\n",
              "      <td>17</td>\n",
              "      <td>12.0</td>\n",
              "      <td>cheerful</td>\n",
              "      <td>Grand Archives</td>\n",
              "      <td>Miniature Birds</td>\n",
              "      <td>http://www.youtube.com/watch?v=_iEnN9ip1Qk</td>\n",
              "      <td>151</td>\n",
              "      <td>14</td>\n",
              "      <td>2</td>\n",
              "      <td>2</td>\n",
              "      <td>...</td>\n",
              "      <td>3.3571</td>\n",
              "      <td>1.3420</td>\n",
              "      <td>2.0</td>\n",
              "      <td>3.0</td>\n",
              "      <td>4.0833</td>\n",
              "      <td>4.9286</td>\n",
              "      <td>1.7914</td>\n",
              "      <td>4.8333</td>\n",
              "      <td>5.0</td>\n",
              "      <td>5.0833</td>\n",
              "    </tr>\n",
              "  </tbody>\n",
              "</table>\n",
              "<p>5 rows × 25 columns</p>\n",
              "</div>"
            ],
            "text/plain": [
              "   Online_id  Experiment_id Lastfm_tag                      Artist  \\\n",
              "0          2            1.0        fun            Emilíana Torrini   \n",
              "1          7            2.0   exciting                      Lustra   \n",
              "2          9           11.0      happy  Michael Franti & Spearhead   \n",
              "3         15            3.0        joy                   Jackson 5   \n",
              "4         17           12.0   cheerful              Grand Archives   \n",
              "\n",
              "                    Title                                Youtube_link  \\\n",
              "0             Jungle Drum  http://www.youtube.com/watch?v=iZ9vkd7Rp-g   \n",
              "1     Scotty Doesn't Know  http://www.youtube.com/watch?v=51ncDQYxsm8   \n",
              "2    Say Hey (I Love You)  http://www.youtube.com/watch?v=eoaTl7IcFs8   \n",
              "3  Blame It On The Boogie  http://www.youtube.com/watch?v=nb1u7wMKywM   \n",
              "4         Miniature Birds  http://www.youtube.com/watch?v=_iEnN9ip1Qk   \n",
              "\n",
              "   Highlight_start  Num_ratings  VAQ_Estimate  VAQ_Online  ...  AVG_Arousal  \\\n",
              "0               81           14             1           1  ...       5.8571   \n",
              "1              141           14             1           1  ...       6.9286   \n",
              "2              151           14             1           2  ...       4.8571   \n",
              "3               21           15             1           1  ...       6.4667   \n",
              "4              151           14             2           2  ...       3.3571   \n",
              "\n",
              "   STD_Arousal  Q1_Arousal  Q2_Arousal  Q3_Arousal  AVG_Dominance  \\\n",
              "0       2.1993         4.0         7.0      7.0000         6.0000   \n",
              "1       1.9808         6.0         7.5      8.0000         5.5000   \n",
              "2       1.4569         3.0         5.0      6.0000         5.2143   \n",
              "3       1.9276         6.0         7.0      7.0000         5.8000   \n",
              "4       1.3420         2.0         3.0      4.0833         4.9286   \n",
              "\n",
              "   STD_Dominance  Q1_Dominance  Q2_Dominance  Q3_Dominance  \n",
              "0         1.5584        5.0000           6.0        7.0000  \n",
              "1         2.4128        3.9167           6.0        7.0833  \n",
              "2         1.3190        5.0000           5.0        6.0000  \n",
              "3         2.0067        5.0000           7.0        7.0000  \n",
              "4         1.7914        4.8333           5.0        5.0833  \n",
              "\n",
              "[5 rows x 25 columns]"
            ]
          },
          "metadata": {
            "tags": []
          },
          "execution_count": 5
        }
      ]
    },
    {
      "cell_type": "code",
      "metadata": {
        "scrolled": true,
        "id": "OcQaKp0R-Jir"
      },
      "source": [
        "df_plot = pd.DataFrame({'val_score':vids_selected['AVG_Valence']/vids_selected['STD_Valence'], 'arousal_score': vids_selected['AVG_Arousal']/vids_selected['STD_Arousal'], 'quad_estimate':vids_selected['VAQ_Estimate'], 'quad_real': vids_selected['VAQ_Online']})\n"
      ],
      "execution_count": null,
      "outputs": []
    },
    {
      "cell_type": "code",
      "metadata": {
        "id": "qlEi-qvb-Jis",
        "outputId": "2997bd8e-df9b-4b23-f456-99b496471636"
      },
      "source": [
        "dummy = z_score(df_plot[['arousal_score', 'val_score']])\n",
        "df_plot['val_score'] = dummy['val_score']\n",
        "df_plot['arousal_score'] = dummy['arousal_score']\n",
        "plt.figure(figsize = (10,8))\n",
        "plt.scatter(x = df_plot['arousal_score'], y = df_plot['val_score'], marker = '.')\n",
        "plt.title('Plot of selected 40 videos. Coordinates are acc. to Subjective assessments and labelling as per Real Experiment')\n",
        "plt.xlabel('Arousal Score')\n",
        "plt.ylabel('Valence Score')\n",
        "plt.axhline(0)\n",
        "plt.axvline(0)\n",
        "#for i in range(40):\n",
        "#    plt.annotate(str(df_plot.iloc[i].quad_real), (df_plot.iloc[i]['arousal_score'], df_plot.iloc[i]['val_score']))"
      ],
      "execution_count": null,
      "outputs": [
        {
          "output_type": "execute_result",
          "data": {
            "text/plain": [
              "<matplotlib.lines.Line2D at 0x206b57913c8>"
            ]
          },
          "metadata": {
            "tags": []
          },
          "execution_count": 7
        },
        {
          "output_type": "display_data",
          "data": {
            "image/png": "[encoded data removed]",
            "text/plain": [
              "<Figure size 720x576 with 1 Axes>"
            ]
          },
          "metadata": {
            "tags": [],
            "needs_background": "light"
          }
        }
      ]
    },
    {
      "cell_type": "code",
      "metadata": {
        "id": "SDmcB-i2-Jiu"
      },
      "source": [
        ""
      ],
      "execution_count": null,
      "outputs": []
    },
    {
      "cell_type": "markdown",
      "metadata": {
        "id": "Io3PHRhf-Jiv"
      },
      "source": [
        "Getting normalized valence and arousal scores using online_ratings file"
      ]
    },
    {
      "cell_type": "code",
      "metadata": {
        "id": "apx0ZRoh-Jiw",
        "outputId": "a8e7491f-fcc8-4fa6-e15e-6ead9536f195"
      },
      "source": [
        "online_ratings.head()"
      ],
      "execution_count": null,
      "outputs": [
        {
          "output_type": "execute_result",
          "data": {
            "text/html": [
              "<div>\n",
              "<style scoped>\n",
              "    .dataframe tbody tr th:only-of-type {\n",
              "        vertical-align: middle;\n",
              "    }\n",
              "\n",
              "    .dataframe tbody tr th {\n",
              "        vertical-align: top;\n",
              "    }\n",
              "\n",
              "    .dataframe thead th {\n",
              "        text-align: right;\n",
              "    }\n",
              "</style>\n",
              "<table border=\"1\" class=\"dataframe\">\n",
              "  <thead>\n",
              "    <tr style=\"text-align: right;\">\n",
              "      <th></th>\n",
              "      <th>Online_id</th>\n",
              "      <th>Valence</th>\n",
              "      <th>Arousal</th>\n",
              "      <th>Dominance</th>\n",
              "      <th>Wheel_slice</th>\n",
              "      <th>Wheel_strength</th>\n",
              "    </tr>\n",
              "  </thead>\n",
              "  <tbody>\n",
              "    <tr>\n",
              "      <td>0</td>\n",
              "      <td>1</td>\n",
              "      <td>4</td>\n",
              "      <td>4</td>\n",
              "      <td>3</td>\n",
              "      <td>11</td>\n",
              "      <td>3</td>\n",
              "    </tr>\n",
              "    <tr>\n",
              "      <td>1</td>\n",
              "      <td>1</td>\n",
              "      <td>8</td>\n",
              "      <td>3</td>\n",
              "      <td>3</td>\n",
              "      <td>3</td>\n",
              "      <td>4</td>\n",
              "    </tr>\n",
              "    <tr>\n",
              "      <td>2</td>\n",
              "      <td>1</td>\n",
              "      <td>5</td>\n",
              "      <td>1</td>\n",
              "      <td>1</td>\n",
              "      <td>3</td>\n",
              "      <td>2</td>\n",
              "    </tr>\n",
              "    <tr>\n",
              "      <td>3</td>\n",
              "      <td>1</td>\n",
              "      <td>5</td>\n",
              "      <td>3</td>\n",
              "      <td>5</td>\n",
              "      <td>3</td>\n",
              "      <td>1</td>\n",
              "    </tr>\n",
              "    <tr>\n",
              "      <td>4</td>\n",
              "      <td>1</td>\n",
              "      <td>7</td>\n",
              "      <td>1</td>\n",
              "      <td>7</td>\n",
              "      <td>7</td>\n",
              "      <td>1</td>\n",
              "    </tr>\n",
              "  </tbody>\n",
              "</table>\n",
              "</div>"
            ],
            "text/plain": [
              "   Online_id  Valence  Arousal  Dominance  Wheel_slice  Wheel_strength\n",
              "0          1        4        4          3           11               3\n",
              "1          1        8        3          3            3               4\n",
              "2          1        5        1          1            3               2\n",
              "3          1        5        3          5            3               1\n",
              "4          1        7        1          7            7               1"
            ]
          },
          "metadata": {
            "tags": []
          },
          "execution_count": 8
        }
      ]
    },
    {
      "cell_type": "code",
      "metadata": {
        "id": "k2fTyFve-Jiy"
      },
      "source": [
        "ids = online_ratings['Online_id'].unique()\n",
        "\n",
        "df_ratings = pd.DataFrame(columns = ['video_id','mean_arousal', 'std_arousal', 'norm_arousal', 'mean_valence', 'std_valence', 'norm_valence'])\n",
        "\n",
        "for video in ids:\n",
        "    #norm_df = z_score(online_ratings[online_ratings['Online_id'] == video][['Arousal', 'Valence']])\n",
        "    #norm_df = min_max_scaling(online_ratings[online_ratings['Online_id'] == video][['Arousal', 'Valence']])\n",
        "    norm_df = online_ratings[online_ratings['Online_id'] == video][['Arousal', 'Valence']]\n",
        "    mean_arousal = norm_df['Arousal'].mean()\n",
        "    std_arousal = norm_df['Arousal'].std()\n",
        "    norm_arousal = mean_arousal/std_arousal\n",
        "    mean_valence = norm_df['Valence'].mean()\n",
        "    std_valence = norm_df['Valence'].std()\n",
        "    norm_valence = mean_valence/std_valence\n",
        "    df_ratings = df_ratings.append({'video_id':int(video),'mean_arousal':mean_arousal, 'std_arousal':std_arousal, 'norm_arousal':norm_arousal, 'mean_valence':mean_valence, 'std_valence':std_valence, 'norm_valence':norm_valence}, ignore_index = True)\n",
        "\n",
        "df_ratings.set_index(keys = 'video_id', inplace = True)"
      ],
      "execution_count": null,
      "outputs": []
    },
    {
      "cell_type": "code",
      "metadata": {
        "scrolled": true,
        "id": "YcA1-x9p-Jiz",
        "outputId": "bb4e8f5a-864e-40f9-8344-b47856ba9f63"
      },
      "source": [
        "df_ratings.head()"
      ],
      "execution_count": null,
      "outputs": [
        {
          "output_type": "execute_result",
          "data": {
            "text/html": [
              "<div>\n",
              "<style scoped>\n",
              "    .dataframe tbody tr th:only-of-type {\n",
              "        vertical-align: middle;\n",
              "    }\n",
              "\n",
              "    .dataframe tbody tr th {\n",
              "        vertical-align: top;\n",
              "    }\n",
              "\n",
              "    .dataframe thead th {\n",
              "        text-align: right;\n",
              "    }\n",
              "</style>\n",
              "<table border=\"1\" class=\"dataframe\">\n",
              "  <thead>\n",
              "    <tr style=\"text-align: right;\">\n",
              "      <th></th>\n",
              "      <th>mean_arousal</th>\n",
              "      <th>std_arousal</th>\n",
              "      <th>norm_arousal</th>\n",
              "      <th>mean_valence</th>\n",
              "      <th>std_valence</th>\n",
              "      <th>norm_valence</th>\n",
              "    </tr>\n",
              "    <tr>\n",
              "      <th>video_id</th>\n",
              "      <th></th>\n",
              "      <th></th>\n",
              "      <th></th>\n",
              "      <th></th>\n",
              "      <th></th>\n",
              "      <th></th>\n",
              "    </tr>\n",
              "  </thead>\n",
              "  <tbody>\n",
              "    <tr>\n",
              "      <td>1.0</td>\n",
              "      <td>4.562500</td>\n",
              "      <td>2.421260</td>\n",
              "      <td>1.884349</td>\n",
              "      <td>6.375000</td>\n",
              "      <td>1.454877</td>\n",
              "      <td>4.381814</td>\n",
              "    </tr>\n",
              "    <tr>\n",
              "      <td>2.0</td>\n",
              "      <td>5.857143</td>\n",
              "      <td>2.282278</td>\n",
              "      <td>2.566359</td>\n",
              "      <td>6.857143</td>\n",
              "      <td>1.350621</td>\n",
              "      <td>5.077031</td>\n",
              "    </tr>\n",
              "    <tr>\n",
              "      <td>3.0</td>\n",
              "      <td>5.571429</td>\n",
              "      <td>2.173770</td>\n",
              "      <td>2.563026</td>\n",
              "      <td>6.500000</td>\n",
              "      <td>1.286019</td>\n",
              "      <td>5.054356</td>\n",
              "    </tr>\n",
              "    <tr>\n",
              "      <td>4.0</td>\n",
              "      <td>5.500000</td>\n",
              "      <td>2.377782</td>\n",
              "      <td>2.313080</td>\n",
              "      <td>6.928571</td>\n",
              "      <td>2.432608</td>\n",
              "      <td>2.848207</td>\n",
              "    </tr>\n",
              "    <tr>\n",
              "      <td>5.0</td>\n",
              "      <td>5.142857</td>\n",
              "      <td>1.460092</td>\n",
              "      <td>3.522283</td>\n",
              "      <td>6.642857</td>\n",
              "      <td>1.598420</td>\n",
              "      <td>4.155891</td>\n",
              "    </tr>\n",
              "  </tbody>\n",
              "</table>\n",
              "</div>"
            ],
            "text/plain": [
              "          mean_arousal  std_arousal  norm_arousal  mean_valence  std_valence  \\\n",
              "video_id                                                                       \n",
              "1.0           4.562500     2.421260      1.884349      6.375000     1.454877   \n",
              "2.0           5.857143     2.282278      2.566359      6.857143     1.350621   \n",
              "3.0           5.571429     2.173770      2.563026      6.500000     1.286019   \n",
              "4.0           5.500000     2.377782      2.313080      6.928571     2.432608   \n",
              "5.0           5.142857     1.460092      3.522283      6.642857     1.598420   \n",
              "\n",
              "          norm_valence  \n",
              "video_id                \n",
              "1.0           4.381814  \n",
              "2.0           5.077031  \n",
              "3.0           5.054356  \n",
              "4.0           2.848207  \n",
              "5.0           4.155891  "
            ]
          },
          "metadata": {
            "tags": []
          },
          "execution_count": 10
        }
      ]
    },
    {
      "cell_type": "code",
      "metadata": {
        "id": "OHJIV9Jm-Ji0",
        "outputId": "e6132460-4ae6-47ff-f5c8-161339a44b4c"
      },
      "source": [
        "df_norm_ratings = z_score(df_ratings[['norm_valence', 'norm_arousal']])\n",
        "#df_norm_ratings = min_max_scaling(df_ratings[['norm_valence', 'norm_arousal']])\n",
        "#df_norm_ratings = df_ratings[['norm_valence', 'norm_arousal']]\n",
        "plt.figure(figsize=(8,6))\n",
        "plt.scatter(y = df_norm_ratings['norm_valence'],  x = df_norm_ratings['norm_arousal'], marker = '.')\n",
        "x_min, x_max = df_norm_ratings['norm_arousal'].min(), df_norm_ratings['norm_arousal'].max() \n",
        "y_min, y_max = df_norm_ratings['norm_valence'].min(), df_norm_ratings['norm_valence'].max() \n",
        "plt.axhline(y = 0)#(y_min+y_max)/2)\n",
        "plt.axvline(x = 0)#(x_min + x_max)/2)\n",
        "plt.title(\"120 videos and their ratings as per online subjective assessment\")\n",
        "plt.xlabel('Arousal Score')\n",
        "plt.ylabel('Valence Score')\n",
        "plt.show()"
      ],
      "execution_count": null,
      "outputs": [
        {
          "output_type": "display_data",
          "data": {
            "image/png": "[encoded data removed]",
            "text/plain": [
              "<Figure size 576x432 with 1 Axes>"
            ]
          },
          "metadata": {
            "tags": [],
            "needs_background": "light"
          }
        }
      ]
    },
    {
      "cell_type": "code",
      "metadata": {
        "id": "OrEvVQ8m-Ji6"
      },
      "source": [
        ""
      ],
      "execution_count": null,
      "outputs": []
    },
    {
      "cell_type": "markdown",
      "metadata": {
        "id": "0rBCIY7lA2lA"
      },
      "source": [
        "# Class imbalance inspection"
      ]
    },
    {
      "cell_type": "code",
      "metadata": {
        "colab": {
          "base_uri": "https://localhost:8080/"
        },
        "id": "aYLocVcRBo0_",
        "outputId": "43c574c3-4cdd-49df-98d2-5359bc758bd7"
      },
      "source": [
        "from google.colab import drive\r\n",
        "drive.mount('/content/drive')"
      ],
      "execution_count": 1,
      "outputs": [
        {
          "output_type": "stream",
          "text": [
            "Mounted at /content/drive\n"
          ],
          "name": "stdout"
        }
      ]
    },
    {
      "cell_type": "code",
      "metadata": {
        "id": "_UTYAL-cBaTf"
      },
      "source": [
        "import pandas as pd\r\n",
        "import numpy as np\r\n",
        "import matplotlib.pyplot as plt"
      ],
      "execution_count": 2,
      "outputs": []
    },
    {
      "cell_type": "code",
      "metadata": {
        "id": "_-87-0y0A7RW"
      },
      "source": [
        "labels = pd.read_excel(\"/content/drive/MyDrive/major project/metadata/Labels.xls\")"
      ],
      "execution_count": 3,
      "outputs": []
    },
    {
      "cell_type": "code",
      "metadata": {
        "colab": {
          "base_uri": "https://localhost:8080/",
          "height": 246
        },
        "id": "qUmYpNE5FFbV",
        "outputId": "7fabe3e9-838d-411a-b222-b53af797d370"
      },
      "source": [
        "labels.head()"
      ],
      "execution_count": 4,
      "outputs": [
        {
          "output_type": "execute_result",
          "data": {
            "text/html": [
              "<div>\n",
              "<style scoped>\n",
              "    .dataframe tbody tr th:only-of-type {\n",
              "        vertical-align: middle;\n",
              "    }\n",
              "\n",
              "    .dataframe tbody tr th {\n",
              "        vertical-align: top;\n",
              "    }\n",
              "\n",
              "    .dataframe thead th {\n",
              "        text-align: right;\n",
              "    }\n",
              "</style>\n",
              "<table border=\"1\" class=\"dataframe\">\n",
              "  <thead>\n",
              "    <tr style=\"text-align: right;\">\n",
              "      <th></th>\n",
              "      <th>Participant_id</th>\n",
              "      <th>Trial</th>\n",
              "      <th>Experiment_id</th>\n",
              "      <th>Valence</th>\n",
              "      <th>Valence Label (1=H, 0=L)</th>\n",
              "      <th>Arousal</th>\n",
              "      <th>Arousal Label (1=H, 0=L)</th>\n",
              "      <th>Dominance</th>\n",
              "      <th>Dominance Label(1=H, 0=L)</th>\n",
              "      <th>Liking</th>\n",
              "      <th>Liking Label(1=H,0=L)</th>\n",
              "      <th>Valence-Arousal Model Quadrant</th>\n",
              "    </tr>\n",
              "  </thead>\n",
              "  <tbody>\n",
              "    <tr>\n",
              "      <th>0</th>\n",
              "      <td>1</td>\n",
              "      <td>24</td>\n",
              "      <td>1</td>\n",
              "      <td>7.71</td>\n",
              "      <td>1</td>\n",
              "      <td>7.60</td>\n",
              "      <td>1</td>\n",
              "      <td>6.90</td>\n",
              "      <td>1</td>\n",
              "      <td>7.83</td>\n",
              "      <td>1</td>\n",
              "      <td>3</td>\n",
              "    </tr>\n",
              "    <tr>\n",
              "      <th>1</th>\n",
              "      <td>1</td>\n",
              "      <td>36</td>\n",
              "      <td>2</td>\n",
              "      <td>8.10</td>\n",
              "      <td>1</td>\n",
              "      <td>7.31</td>\n",
              "      <td>1</td>\n",
              "      <td>7.28</td>\n",
              "      <td>1</td>\n",
              "      <td>8.47</td>\n",
              "      <td>1</td>\n",
              "      <td>3</td>\n",
              "    </tr>\n",
              "    <tr>\n",
              "      <th>2</th>\n",
              "      <td>1</td>\n",
              "      <td>32</td>\n",
              "      <td>3</td>\n",
              "      <td>8.58</td>\n",
              "      <td>1</td>\n",
              "      <td>7.54</td>\n",
              "      <td>1</td>\n",
              "      <td>9.00</td>\n",
              "      <td>1</td>\n",
              "      <td>7.08</td>\n",
              "      <td>1</td>\n",
              "      <td>3</td>\n",
              "    </tr>\n",
              "    <tr>\n",
              "      <th>3</th>\n",
              "      <td>1</td>\n",
              "      <td>3</td>\n",
              "      <td>4</td>\n",
              "      <td>4.94</td>\n",
              "      <td>0</td>\n",
              "      <td>6.01</td>\n",
              "      <td>1</td>\n",
              "      <td>6.12</td>\n",
              "      <td>1</td>\n",
              "      <td>8.06</td>\n",
              "      <td>1</td>\n",
              "      <td>1</td>\n",
              "    </tr>\n",
              "    <tr>\n",
              "      <th>4</th>\n",
              "      <td>1</td>\n",
              "      <td>1</td>\n",
              "      <td>5</td>\n",
              "      <td>6.96</td>\n",
              "      <td>1</td>\n",
              "      <td>3.92</td>\n",
              "      <td>0</td>\n",
              "      <td>7.19</td>\n",
              "      <td>1</td>\n",
              "      <td>6.05</td>\n",
              "      <td>1</td>\n",
              "      <td>2</td>\n",
              "    </tr>\n",
              "  </tbody>\n",
              "</table>\n",
              "</div>"
            ],
            "text/plain": [
              "   Participant_id  Trial  ...  Liking Label(1=H,0=L)  Valence-Arousal Model Quadrant\n",
              "0               1     24  ...                      1                               3\n",
              "1               1     36  ...                      1                               3\n",
              "2               1     32  ...                      1                               3\n",
              "3               1      3  ...                      1                               1\n",
              "4               1      1  ...                      1                               2\n",
              "\n",
              "[5 rows x 12 columns]"
            ]
          },
          "metadata": {
            "tags": []
          },
          "execution_count": 4
        }
      ]
    },
    {
      "cell_type": "code",
      "metadata": {
        "colab": {
          "base_uri": "https://localhost:8080/"
        },
        "id": "-yOLoZuHFEaZ",
        "outputId": "3e722e3c-1ba8-4b38-b447-a43ab79bc83c"
      },
      "source": [
        "\r\n",
        "sub_labels = labels[\"Valence-Arousal Model Quadrant\"].astype('int')\r\n",
        "sub_labels\r\n"
      ],
      "execution_count": 5,
      "outputs": [
        {
          "output_type": "execute_result",
          "data": {
            "text/plain": [
              "0       3\n",
              "1       3\n",
              "2       3\n",
              "3       1\n",
              "4       2\n",
              "       ..\n",
              "1275    1\n",
              "1276    1\n",
              "1277    1\n",
              "1278    1\n",
              "1279    2\n",
              "Name: Valence-Arousal Model Quadrant, Length: 1280, dtype: int64"
            ]
          },
          "metadata": {
            "tags": []
          },
          "execution_count": 5
        }
      ]
    },
    {
      "cell_type": "code",
      "metadata": {
        "id": "XYwBiL9JFM_o"
      },
      "source": [
        "from collections import Counter"
      ],
      "execution_count": 6,
      "outputs": []
    },
    {
      "cell_type": "code",
      "metadata": {
        "colab": {
          "base_uri": "https://localhost:8080/",
          "height": 282
        },
        "id": "mN6Wv6_KFuf8",
        "outputId": "e4b52195-93fb-49a8-81bd-5cd651dfe3f0"
      },
      "source": [
        "c = Counter(sub_labels)\n",
        "c\n",
        "plt.figure()\n",
        "plt.bar([0,1,2,3], [260, 296, 266, 458])"
      ],
      "execution_count": 15,
      "outputs": [
        {
          "output_type": "execute_result",
          "data": {
            "text/plain": [
              "<BarContainer object of 4 artists>"
            ]
          },
          "metadata": {
            "tags": []
          },
          "execution_count": 15
        },
        {
          "output_type": "display_data",
          "data": {
            "image/png": "[encoded data removed]",
            "text/plain": [
              "<Figure size 432x288 with 1 Axes>"
            ]
          },
          "metadata": {
            "tags": [],
            "needs_background": "light"
          }
        }
      ]
    },
    {
      "cell_type": "code",
      "metadata": {
        "id": "KCaK4fPLGWc_"
      },
      "source": [
        "val_labels = labels['Valence Label (1=H, 0=L)']\r\n",
        "c2 = Counter(val_labels)"
      ],
      "execution_count": 20,
      "outputs": []
    },
    {
      "cell_type": "code",
      "metadata": {
        "colab": {
          "base_uri": "https://localhost:8080/"
        },
        "id": "YCLObxApGqvj",
        "outputId": "1664659e-7139-4875-fb8e-980c6e2a2ff7"
      },
      "source": [
        "c2"
      ],
      "execution_count": 21,
      "outputs": [
        {
          "output_type": "execute_result",
          "data": {
            "text/plain": [
              "Counter({0: 556, 1: 724})"
            ]
          },
          "metadata": {
            "tags": []
          },
          "execution_count": 21
        }
      ]
    },
    {
      "cell_type": "code",
      "metadata": {
        "colab": {
          "base_uri": "https://localhost:8080/"
        },
        "id": "cGLxDkSfG0kk",
        "outputId": "b5d2f144-625f-43f0-99f0-0b9c3734d592"
      },
      "source": [
        "arousal_labels = labels['Arousal Label (1=H, 0=L)']\r\n",
        "c3 = Counter(val_labels)\r\n",
        "c3"
      ],
      "execution_count": 22,
      "outputs": [
        {
          "output_type": "execute_result",
          "data": {
            "text/plain": [
              "Counter({0: 556, 1: 724})"
            ]
          },
          "metadata": {
            "tags": []
          },
          "execution_count": 22
        }
      ]
    },
    {
      "cell_type": "code",
      "metadata": {
        "colab": {
          "base_uri": "https://localhost:8080/",
          "height": 282
        },
        "id": "DERilAjzG8AY",
        "outputId": "8c96118f-994a-4bb2-853c-ef01a82a7874"
      },
      "source": [
        "plt.figure()\r\n",
        "plt.plot(labels['Valence Label (1=H, 0=L)'][:100] + 2, '.')\r\n",
        "plt.plot(labels['Arousal Label (1=H, 0=L)'][:100], '.')"
      ],
      "execution_count": 26,
      "outputs": [
        {
          "output_type": "execute_result",
          "data": {
            "text/plain": [
              "[<matplotlib.lines.Line2D at 0x7f424f786438>]"
            ]
          },
          "metadata": {
            "tags": []
          },
          "execution_count": 26
        },
        {
          "output_type": "display_data",
          "data": {
            "image/png": "[encoded data removed]",
            "text/plain": [
              "<Figure size 432x288 with 1 Axes>"
            ]
          },
          "metadata": {
            "tags": [],
            "needs_background": "light"
          }
        }
      ]
    },
    {
      "cell_type": "code",
      "metadata": {
        "id": "Ee7cfLZLHNpZ"
      },
      "source": [
        ""
      ],
      "execution_count": null,
      "outputs": []
    }
  ]
}